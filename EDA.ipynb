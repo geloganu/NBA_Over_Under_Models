{
 "cells": [
  {
   "cell_type": "code",
   "execution_count": 43,
   "metadata": {},
   "outputs": [],
   "source": [
    "import numpy as np\n",
    "import pandas as pd\n",
    "import matplotlib.pyplot as plt\n",
    "import seaborn as sn\n",
    "import os\n",
    "\n",
    "path = './data/'\n",
    "\n",
    "files = [filename for filename in os.listdir(path) if os.path.isdir(os.path.join(path,filename))]\n",
    "odds = []\n",
    "scores = []\n",
    "\n",
    "for file in files:\n",
    "    temp_odds = pd.read_csv(path+file+'/vegas.txt',index_col=0,parse_dates=True)\n",
    "    temp_scores = pd.read_csv(path+file+'/raw_scores.txt',index_col=0,parse_dates=True)\n",
    "    odds.append(temp_odds)\n",
    "    scores.append(temp_scores)\n",
    "    \n",
    "master_odds = pd.concat(odds,axis=0)\n",
    "master_scores = pd.concat(scores,axis=0)"
   ]
  },
  {
   "cell_type": "code",
   "execution_count": 44,
   "metadata": {},
   "outputs": [],
   "source": [
    "def find_columns(columns, keyword):\n",
    "    #retains and returns the columns (list) that contain the keyword (string).\n",
    "    \n",
    "    retained_cols = []\n",
    "    for feature in columns:\n",
    "        if feature.find(keyword)!= -1:\n",
    "            retained_cols.append(feature)\n",
    "    \n",
    "    print(f'Found columns with keyword {keyword}: {retained_cols}')\n",
    "    \n",
    "    return retained_cols"
   ]
  },
  {
   "attachments": {},
   "cell_type": "markdown",
   "metadata": {},
   "source": [
    "## EDA on O/U Betting\n",
    "----"
   ]
  },
  {
   "cell_type": "code",
   "execution_count": 40,
   "metadata": {},
   "outputs": [
    {
     "name": "stdout",
     "output_type": "stream",
     "text": [
      "Found columns with keyword OU: ['PercentBet_OU', 'Open_Line_OU', 'Open_Odds_OU', 'Pinnacle_Line_OU', 'Pinnacle_Odds_OU', '5dimes_Line_OU', '5dimes_Odds_OU', 'Heritage_Line_OU', 'Heritage_Odds_OU', 'Bovada_Line_OU', 'Bovada_Odds_OU', 'Betonline_Line_OU', 'Betonline_Odds_OU', 'Average_Line_OU', 'Average_Odds_OU', 'Best_Line_OU', 'Worst_Line_OU', 'Best_Odds_OU', 'Worst_Odds_OU']\n"
     ]
    }
   ],
   "source": [
    "OU_cols = find_columns(master_odds, 'OU')\n",
    "basic_cols = ['Location', 'Team', 'OppTeam', 'TeamId', 'GameId', 'Pts', 'Spread', 'Result', 'Total']\n",
    "\n",
    "master_OU = master_odds[basic_cols+OU_cols]"
   ]
  },
  {
   "cell_type": "code",
   "execution_count": 42,
   "metadata": {},
   "outputs": [
    {
     "data": {
      "text/plain": [
       "Index(['Location', 'Team', 'OppTeam', 'TeamId', 'GameId', 'Pts', 'Spread',\n",
       "       'Result', 'Total', 'PercentBet_OU', 'Open_Line_OU', 'Open_Odds_OU',\n",
       "       'Pinnacle_Line_OU', 'Pinnacle_Odds_OU', '5dimes_Line_OU',\n",
       "       '5dimes_Odds_OU', 'Heritage_Line_OU', 'Heritage_Odds_OU',\n",
       "       'Bovada_Line_OU', 'Bovada_Odds_OU', 'Betonline_Line_OU',\n",
       "       'Betonline_Odds_OU', 'Average_Line_OU', 'Average_Odds_OU',\n",
       "       'Best_Line_OU', 'Worst_Line_OU', 'Best_Odds_OU', 'Worst_Odds_OU'],\n",
       "      dtype='object')"
      ]
     },
     "execution_count": 42,
     "metadata": {},
     "output_type": "execute_result"
    }
   ],
   "source": []
  },
  {
   "cell_type": "code",
   "execution_count": 36,
   "metadata": {},
   "outputs": [
    {
     "data": {
      "text/plain": [
       "Date\n",
       "2017-10-17    -3.0\n",
       "2017-10-17     3.0\n",
       "2017-10-17     1.0\n",
       "2017-10-17    -1.0\n",
       "2017-10-18   -12.0\n",
       "              ... \n",
       "2016-04-13     5.0\n",
       "2016-04-13    -9.0\n",
       "2016-04-13     9.0\n",
       "2016-04-13    -8.0\n",
       "2016-04-13     8.0\n",
       "Name: Spread, Length: 17208, dtype: float64"
      ]
     },
     "execution_count": 36,
     "metadata": {},
     "output_type": "execute_result"
    }
   ],
   "source": [
    "master_odds['Total']"
   ]
  },
  {
   "cell_type": "code",
   "execution_count": null,
   "metadata": {},
   "outputs": [],
   "source": []
  }
 ],
 "metadata": {
  "kernelspec": {
   "display_name": "tensorflow_silicon",
   "language": "python",
   "name": "python3"
  },
  "language_info": {
   "codemirror_mode": {
    "name": "ipython",
    "version": 3
   },
   "file_extension": ".py",
   "mimetype": "text/x-python",
   "name": "python",
   "nbconvert_exporter": "python",
   "pygments_lexer": "ipython3",
   "version": "3.9.16"
  },
  "orig_nbformat": 4
 },
 "nbformat": 4,
 "nbformat_minor": 2
}
