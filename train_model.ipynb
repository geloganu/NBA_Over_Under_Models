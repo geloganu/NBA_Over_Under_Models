{
 "cells": [
  {
   "cell_type": "code",
   "execution_count": 220,
   "metadata": {},
   "outputs": [
    {
     "name": "stdout",
     "output_type": "stream",
     "text": [
      "The tensorboard extension is already loaded. To reload it, use:\n",
      "  %reload_ext tensorboard\n"
     ]
    }
   ],
   "source": [
    "import numpy as np\n",
    "import pandas as pd\n",
    "import seaborn as sn\n",
    "import matplotlib.pyplot as plt\n",
    "import tensorflow as tf\n",
    "from tensorflow import keras\n",
    "import sklearn as sk\n",
    "import datetime\n",
    "\n",
    "%load_ext tensorboard\n",
    "\n",
    "filename = './_data/filtered_data.csv'\n",
    "data = pd.read_csv('./_data/filtered_data.csv')\n",
    "\n",
    "data = data.drop(['Unnamed: 0'],axis=1)"
   ]
  },
  {
   "attachments": {},
   "cell_type": "markdown",
   "metadata": {},
   "source": [
    "## NN Model Training\n",
    "----\n",
    "\n",
    "Before training the model, we want to do some further preprocessing such as normalizaiton and ensuring the datatype of each column is float type. "
   ]
  },
  {
   "cell_type": "code",
   "execution_count": 221,
   "metadata": {},
   "outputs": [],
   "source": [
    "from sklearn.model_selection import train_test_split\n",
    "\n",
    "def model_preprocessing(dataset,date_range,test_size):\n",
    "    \"\"\"\n",
    "    Takes filtered dataset and returns train_test_split dataset for training model. Removes columns of dtype == \"object\".\n",
    "    \n",
    "    :dataset: input dataset (pd.DataFrame type)\n",
    "    :seasons: range of seasons eg. (\"2016-01-01\",\"2019-01-01\")\n",
    "    :test_size: validation set size\n",
    "    \"\"\"\n",
    "    \n",
    "    seasonal_data = dataset.loc[np.where((dataset['Date'] > date_range[0]) & (dataset['Date'] < date_range[1]))]\n",
    "    \n",
    "    column_ind = [i for i in range(0,len(dataset.dtypes)) if dataset.dtypes[i] == 'object']\n",
    "    seasonal_data = seasonal_data.drop(columns = seasonal_data.columns[column_ind], axis = 1)\n",
    "    \n",
    "    OU_classification = np.asarray(seasonal_data['O/U'])\n",
    "    \n",
    "    seasonal_data = seasonal_data.drop(columns = ['O/U'], axis = 1)\n",
    "    seasonal_data = np.asarray(seasonal_data, dtype = float)   \n",
    "    seasonal_data = keras.utils.normalize(seasonal_data, axis=1)\n",
    "     \n",
    "    return train_test_split(seasonal_data, OU_classification, random_state=42,test_size = test_size)\n",
    "\n",
    "def prediction_classifier(prediction):\n",
    "    outcome=[]\n",
    "    for pred in prediction:\n",
    "        outcome.append(float(pred.argmax()))\n",
    "        \n",
    "    return outcome\n",
    "\n",
    "X_train, X_test, y_train, y_test = model_preprocessing(dataset = data.drop(columns = ['Total'],axis = 1),\n",
    "                                                       date_range = (\"2012-01-01\", \"2029-01-01\"),\n",
    "                                                       test_size = 0.2)\n",
    "    "
   ]
  },
  {
   "attachments": {},
   "cell_type": "markdown",
   "metadata": {},
   "source": [
    "We will use a two fully connected layer with a flatten layer and a dropout layer in between. "
   ]
  },
  {
   "cell_type": "code",
   "execution_count": 248,
   "metadata": {},
   "outputs": [],
   "source": [
    "#tensorboard\n",
    "log_dir = \"./_data/logs/\" + datetime.datetime.now().strftime(\"%Y%m%d-%H%M%S\")\n",
    "tensorboard_callback = tf.keras.callbacks.TensorBoard(log_dir=log_dir, histogram_freq=1)\n",
    "\n",
    "#earling stopping\n",
    "callback = keras.callbacks.EarlyStopping(monitor='loss', patience=3)\n",
    "\n",
    "#model checkpoint\n",
    "checkpoint_filepath = './_data/checkpoint/'\n",
    "model_checkpoint_callback = tf.keras.callbacks.ModelCheckpoint(\n",
    "    filepath=checkpoint_filepath,\n",
    "    save_weights_only=True,\n",
    "    monitor='val_accuracy',\n",
    "    mode='max',\n",
    "    save_best_only=True)\n",
    "    \n",
    "\n",
    "model = tf.keras.models.Sequential()\n",
    "model.add(keras.layers.Flatten(input_shape = X_train[0].shape))\n",
    "model.add(tf.keras.layers.Dense(128, activation=\"relu6\"))\n",
    "model.add(keras.layers.Dropout(0.2) )\n",
    "model.add(tf.keras.layers.Dense(3, activation=\"softmax\"))\n",
    "\n",
    "model.compile(optimizer='adam', loss='sparse_categorical_crossentropy', metrics=['accuracy'])"
   ]
  },
  {
   "cell_type": "code",
   "execution_count": 249,
   "metadata": {},
   "outputs": [
    {
     "name": "stdout",
     "output_type": "stream",
     "text": [
      "Epoch 1/60\n",
      "96/96 [==============================] - 1s 10ms/step - loss: 0.8112 - accuracy: 0.4925 - val_loss: 0.7555 - val_accuracy: 0.7445\n",
      "Epoch 2/60\n",
      "96/96 [==============================] - 1s 9ms/step - loss: 0.7415 - accuracy: 0.5401 - val_loss: 0.7415 - val_accuracy: 0.6019\n",
      "Epoch 3/60\n",
      "96/96 [==============================] - 1s 10ms/step - loss: 0.7273 - accuracy: 0.6121 - val_loss: 0.7224 - val_accuracy: 0.7884\n",
      "Epoch 4/60\n",
      "96/96 [==============================] - 1s 9ms/step - loss: 0.6992 - accuracy: 0.6982 - val_loss: 0.6920 - val_accuracy: 0.8135\n",
      "Epoch 5/60\n",
      "96/96 [==============================] - 1s 8ms/step - loss: 0.6696 - accuracy: 0.7318 - val_loss: 0.6563 - val_accuracy: 0.8072\n",
      "Epoch 6/60\n",
      "96/96 [==============================] - 1s 8ms/step - loss: 0.6235 - accuracy: 0.7778 - val_loss: 0.6083 - val_accuracy: 0.8276\n",
      "Epoch 7/60\n",
      "96/96 [==============================] - 1s 8ms/step - loss: 0.5814 - accuracy: 0.7954 - val_loss: 0.5793 - val_accuracy: 0.7884\n",
      "Epoch 8/60\n",
      "96/96 [==============================] - 1s 8ms/step - loss: 0.5416 - accuracy: 0.8120 - val_loss: 0.5448 - val_accuracy: 0.7947\n",
      "Epoch 9/60\n",
      "96/96 [==============================] - 1s 8ms/step - loss: 0.5080 - accuracy: 0.8184 - val_loss: 0.4995 - val_accuracy: 0.8370\n",
      "Epoch 10/60\n",
      "96/96 [==============================] - 1s 7ms/step - loss: 0.4815 - accuracy: 0.8229 - val_loss: 0.4740 - val_accuracy: 0.8354\n",
      "Epoch 11/60\n",
      "96/96 [==============================] - 1s 8ms/step - loss: 0.4585 - accuracy: 0.8351 - val_loss: 0.4550 - val_accuracy: 0.8448\n",
      "Epoch 12/60\n",
      "96/96 [==============================] - 1s 7ms/step - loss: 0.4459 - accuracy: 0.8290 - val_loss: 0.4451 - val_accuracy: 0.8245\n",
      "Epoch 13/60\n",
      "96/96 [==============================] - 1s 8ms/step - loss: 0.4242 - accuracy: 0.8412 - val_loss: 0.4236 - val_accuracy: 0.8511\n",
      "Epoch 14/60\n",
      "96/96 [==============================] - 1s 7ms/step - loss: 0.4136 - accuracy: 0.8437 - val_loss: 0.4139 - val_accuracy: 0.8511\n",
      "Epoch 15/60\n",
      "96/96 [==============================] - 1s 7ms/step - loss: 0.3986 - accuracy: 0.8466 - val_loss: 0.4188 - val_accuracy: 0.8323\n",
      "Epoch 16/60\n",
      "96/96 [==============================] - 1s 7ms/step - loss: 0.3893 - accuracy: 0.8531 - val_loss: 0.3916 - val_accuracy: 0.8589\n",
      "Epoch 17/60\n",
      "96/96 [==============================] - 1s 7ms/step - loss: 0.3806 - accuracy: 0.8557 - val_loss: 0.4007 - val_accuracy: 0.8370\n",
      "Epoch 18/60\n",
      "96/96 [==============================] - 1s 7ms/step - loss: 0.3757 - accuracy: 0.8541 - val_loss: 0.3803 - val_accuracy: 0.8542\n",
      "Epoch 19/60\n",
      "96/96 [==============================] - 1s 7ms/step - loss: 0.3702 - accuracy: 0.8559 - val_loss: 0.3747 - val_accuracy: 0.8589\n",
      "Epoch 20/60\n",
      "96/96 [==============================] - 1s 7ms/step - loss: 0.3617 - accuracy: 0.8604 - val_loss: 0.3777 - val_accuracy: 0.8417\n",
      "Epoch 21/60\n",
      "96/96 [==============================] - 1s 7ms/step - loss: 0.3569 - accuracy: 0.8625 - val_loss: 0.3903 - val_accuracy: 0.8386\n",
      "Epoch 22/60\n",
      "96/96 [==============================] - 1s 8ms/step - loss: 0.3515 - accuracy: 0.8635 - val_loss: 0.3557 - val_accuracy: 0.8652\n",
      "Epoch 23/60\n",
      "96/96 [==============================] - 1s 8ms/step - loss: 0.3476 - accuracy: 0.8655 - val_loss: 0.3535 - val_accuracy: 0.8699\n",
      "Epoch 24/60\n",
      "96/96 [==============================] - 1s 9ms/step - loss: 0.3405 - accuracy: 0.8675 - val_loss: 0.3559 - val_accuracy: 0.8589\n",
      "Epoch 25/60\n",
      "96/96 [==============================] - 1s 9ms/step - loss: 0.3367 - accuracy: 0.8707 - val_loss: 0.3397 - val_accuracy: 0.8746\n",
      "Epoch 26/60\n",
      "96/96 [==============================] - 1s 9ms/step - loss: 0.3299 - accuracy: 0.8740 - val_loss: 0.3361 - val_accuracy: 0.8746\n",
      "Epoch 27/60\n",
      "96/96 [==============================] - 1s 8ms/step - loss: 0.3312 - accuracy: 0.8707 - val_loss: 0.3411 - val_accuracy: 0.8730\n",
      "Epoch 28/60\n",
      "96/96 [==============================] - 1s 8ms/step - loss: 0.3275 - accuracy: 0.8698 - val_loss: 0.3309 - val_accuracy: 0.8777\n",
      "Epoch 29/60\n",
      "96/96 [==============================] - 1s 8ms/step - loss: 0.3252 - accuracy: 0.8724 - val_loss: 0.3335 - val_accuracy: 0.8777\n",
      "Epoch 30/60\n",
      "96/96 [==============================] - 1s 8ms/step - loss: 0.3194 - accuracy: 0.8775 - val_loss: 0.3251 - val_accuracy: 0.8730\n",
      "Epoch 31/60\n",
      "96/96 [==============================] - 1s 7ms/step - loss: 0.3184 - accuracy: 0.8770 - val_loss: 0.3251 - val_accuracy: 0.8762\n",
      "Epoch 32/60\n",
      "96/96 [==============================] - 1s 7ms/step - loss: 0.3141 - accuracy: 0.8801 - val_loss: 0.3529 - val_accuracy: 0.8527\n",
      "Epoch 33/60\n",
      "96/96 [==============================] - 1s 7ms/step - loss: 0.3054 - accuracy: 0.8858 - val_loss: 0.3158 - val_accuracy: 0.8777\n",
      "Epoch 34/60\n",
      "96/96 [==============================] - 1s 8ms/step - loss: 0.3039 - accuracy: 0.8825 - val_loss: 0.3133 - val_accuracy: 0.8809\n",
      "Epoch 35/60\n",
      "96/96 [==============================] - 1s 8ms/step - loss: 0.3030 - accuracy: 0.8810 - val_loss: 0.3192 - val_accuracy: 0.8777\n",
      "Epoch 36/60\n",
      "96/96 [==============================] - 1s 7ms/step - loss: 0.2994 - accuracy: 0.8818 - val_loss: 0.3168 - val_accuracy: 0.8777\n",
      "Epoch 37/60\n",
      "96/96 [==============================] - 1s 8ms/step - loss: 0.2995 - accuracy: 0.8845 - val_loss: 0.3066 - val_accuracy: 0.8856\n",
      "Epoch 38/60\n",
      "96/96 [==============================] - 1s 7ms/step - loss: 0.2948 - accuracy: 0.8897 - val_loss: 0.3445 - val_accuracy: 0.8542\n",
      "Epoch 39/60\n",
      "96/96 [==============================] - 1s 9ms/step - loss: 0.2974 - accuracy: 0.8850 - val_loss: 0.2997 - val_accuracy: 0.8887\n",
      "Epoch 40/60\n",
      "96/96 [==============================] - 1s 9ms/step - loss: 0.2896 - accuracy: 0.8902 - val_loss: 0.3065 - val_accuracy: 0.8824\n",
      "Epoch 41/60\n",
      "96/96 [==============================] - 1s 8ms/step - loss: 0.2898 - accuracy: 0.8876 - val_loss: 0.3158 - val_accuracy: 0.8840\n",
      "Epoch 42/60\n",
      "96/96 [==============================] - 1s 8ms/step - loss: 0.2852 - accuracy: 0.8900 - val_loss: 0.2938 - val_accuracy: 0.8903\n",
      "Epoch 43/60\n",
      "96/96 [==============================] - 1s 8ms/step - loss: 0.2827 - accuracy: 0.8933 - val_loss: 0.2898 - val_accuracy: 0.8918\n",
      "Epoch 44/60\n",
      "96/96 [==============================] - 1s 9ms/step - loss: 0.2833 - accuracy: 0.8895 - val_loss: 0.2992 - val_accuracy: 0.8950\n",
      "Epoch 45/60\n",
      "96/96 [==============================] - 1s 8ms/step - loss: 0.2798 - accuracy: 0.8881 - val_loss: 0.2846 - val_accuracy: 0.8918\n",
      "Epoch 46/60\n",
      "96/96 [==============================] - 1s 8ms/step - loss: 0.2756 - accuracy: 0.8960 - val_loss: 0.2843 - val_accuracy: 0.8934\n",
      "Epoch 47/60\n",
      "96/96 [==============================] - 1s 8ms/step - loss: 0.2733 - accuracy: 0.8951 - val_loss: 0.3002 - val_accuracy: 0.8871\n",
      "Epoch 48/60\n",
      "96/96 [==============================] - 1s 8ms/step - loss: 0.2721 - accuracy: 0.8984 - val_loss: 0.2978 - val_accuracy: 0.8871\n",
      "Epoch 49/60\n",
      "96/96 [==============================] - 1s 8ms/step - loss: 0.2686 - accuracy: 0.8986 - val_loss: 0.2812 - val_accuracy: 0.8997\n",
      "Epoch 50/60\n",
      "96/96 [==============================] - 1s 8ms/step - loss: 0.2671 - accuracy: 0.8977 - val_loss: 0.2916 - val_accuracy: 0.8918\n",
      "Epoch 51/60\n",
      "96/96 [==============================] - 1s 8ms/step - loss: 0.2641 - accuracy: 0.8977 - val_loss: 0.2712 - val_accuracy: 0.8966\n",
      "Epoch 52/60\n",
      "96/96 [==============================] - 1s 8ms/step - loss: 0.2664 - accuracy: 0.8975 - val_loss: 0.2754 - val_accuracy: 0.9028\n",
      "Epoch 53/60\n",
      "96/96 [==============================] - 1s 7ms/step - loss: 0.2617 - accuracy: 0.9022 - val_loss: 0.2756 - val_accuracy: 0.9028\n",
      "Epoch 54/60\n",
      "96/96 [==============================] - 1s 7ms/step - loss: 0.2547 - accuracy: 0.9028 - val_loss: 0.2815 - val_accuracy: 0.8997\n",
      "Epoch 55/60\n",
      "96/96 [==============================] - 1s 7ms/step - loss: 0.2533 - accuracy: 0.9061 - val_loss: 0.2784 - val_accuracy: 0.9013\n",
      "Epoch 56/60\n",
      "96/96 [==============================] - 1s 10ms/step - loss: 0.2530 - accuracy: 0.9057 - val_loss: 0.2594 - val_accuracy: 0.9060\n",
      "Epoch 57/60\n",
      "96/96 [==============================] - 1s 8ms/step - loss: 0.2523 - accuracy: 0.9057 - val_loss: 0.2611 - val_accuracy: 0.9044\n",
      "Epoch 58/60\n",
      "96/96 [==============================] - 1s 8ms/step - loss: 0.2510 - accuracy: 0.9047 - val_loss: 0.2586 - val_accuracy: 0.9044\n",
      "Epoch 59/60\n",
      "96/96 [==============================] - 1s 9ms/step - loss: 0.2470 - accuracy: 0.9055 - val_loss: 0.2539 - val_accuracy: 0.9060\n",
      "Epoch 60/60\n",
      "96/96 [==============================] - 1s 8ms/step - loss: 0.2409 - accuracy: 0.9113 - val_loss: 0.2630 - val_accuracy: 0.9060\n"
     ]
    },
    {
     "data": {
      "text/plain": [
       "<keras.callbacks.History at 0x2eac90e20>"
      ]
     },
     "execution_count": 249,
     "metadata": {},
     "output_type": "execute_result"
    }
   ],
   "source": [
    "model.fit(X_train, \n",
    "          y_train, \n",
    "          epochs=60, \n",
    "          validation_split=0.1, \n",
    "          batch_size=60,\n",
    "          callbacks=[callback,tensorboard_callback,model_checkpoint_callback])"
   ]
  },
  {
   "attachments": {},
   "cell_type": "markdown",
   "metadata": {},
   "source": [
    "Below cell runs TensorBoard with information such as epoch_accuracy and epoch_loss graphs"
   ]
  },
  {
   "cell_type": "code",
   "execution_count": 252,
   "metadata": {},
   "outputs": [
    {
     "data": {
      "text/plain": [
       "ERROR: Failed to launch TensorBoard (exited with 1).\n",
       "Contents of stderr:\n",
       "E0512 16:07:41.398544 8176745088 application.py:125] Failed to load plugin WhatIfToolPluginLoader.load; ignoring it.\n",
       "Traceback (most recent call last):\n",
       "  File \"/Users/logange/miniforge3/envs/tensorflow_silicon/lib/python3.9/site-packages/tensorboard/backend/application.py\", line 123, in TensorBoardWSGIApp\n",
       "    plugin = loader.load(context)\n",
       "  File \"/Users/logange/miniforge3/envs/tensorflow_silicon/lib/python3.9/site-packages/tensorboard_plugin_wit/wit_plugin_loader.py\", line 57, in load\n",
       "    from tensorboard_plugin_wit.wit_plugin import WhatIfToolPlugin\n",
       "  File \"/Users/logange/miniforge3/envs/tensorflow_silicon/lib/python3.9/site-packages/tensorboard_plugin_wit/wit_plugin.py\", line 40, in <module>\n",
       "    from tensorboard_plugin_wit._utils import common_utils\n",
       "  File \"/Users/logange/miniforge3/envs/tensorflow_silicon/lib/python3.9/site-packages/tensorboard_plugin_wit/_utils/common_utils.py\", line 17, in <module>\n",
       "    from tensorboard_plugin_wit._vendor.tensorflow_serving.apis import classification_pb2\n",
       "  File \"/Users/logange/miniforge3/envs/tensorflow_silicon/lib/python3.9/site-packages/tensorboard_plugin_wit/_vendor/tensorflow_serving/apis/classification_pb2.py\", line 15, in <module>\n",
       "    from tensorboard_plugin_wit._vendor.tensorflow_serving.apis import input_pb2 as tensorflow__serving_dot_apis_dot_input__pb2\n",
       "  File \"/Users/logange/miniforge3/envs/tensorflow_silicon/lib/python3.9/site-packages/tensorboard_plugin_wit/_vendor/tensorflow_serving/apis/input_pb2.py\", line 37, in <module>\n",
       "    _descriptor.FieldDescriptor(\n",
       "  File \"/Users/logange/miniforge3/envs/tensorflow_silicon/lib/python3.9/site-packages/google/protobuf/descriptor.py\", line 561, in __new__\n",
       "    _message.Message._CheckCalledFromGeneratedFile()\n",
       "TypeError: Descriptors cannot not be created directly.\n",
       "If this call came from a _pb2.py file, your generated code is out of date and must be regenerated with protoc >= 3.19.0.\n",
       "If you cannot immediately regenerate your protos, some other possible workarounds are:\n",
       " 1. Downgrade the protobuf package to 3.20.x or lower.\n",
       " 2. Set PROTOCOL_BUFFERS_PYTHON_IMPLEMENTATION=python (but this will use pure-Python parsing and will be much slower).\n",
       "\n",
       "More information: https://developers.google.com/protocol-buffers/docs/news/2022-05-06#python-updates\n",
       "Address already in use\n",
       "Port 6006 is in use by another program. Either identify and stop that program, or start the server with a different port."
      ]
     },
     "metadata": {},
     "output_type": "display_data"
    }
   ],
   "source": [
    "%tensorboard --logdir _data/logs"
   ]
  },
  {
   "attachments": {},
   "cell_type": "markdown",
   "metadata": {},
   "source": [
    "## Evaluating Model Performance"
   ]
  },
  {
   "cell_type": "code",
   "execution_count": 228,
   "metadata": {},
   "outputs": [
    {
     "name": "stdout",
     "output_type": "stream",
     "text": [
      "50/50 [==============================] - 0s 2ms/step\n"
     ]
    }
   ],
   "source": [
    "prediction_output = model.predict(X_test)\n",
    "predictions = prediction_classifier(prediction_output)"
   ]
  },
  {
   "cell_type": "code",
   "execution_count": 229,
   "metadata": {},
   "outputs": [
    {
     "data": {
      "text/plain": [
       "<Figure size 576x504 with 0 Axes>"
      ]
     },
     "execution_count": 229,
     "metadata": {},
     "output_type": "execute_result"
    },
    {
     "data": {
      "text/plain": [
       "<Axes: >"
      ]
     },
     "execution_count": 229,
     "metadata": {},
     "output_type": "execute_result"
    },
    {
     "data": {
      "text/plain": [
       "Text(0.5, 1.0, 'Confusion matrix')"
      ]
     },
     "execution_count": 229,
     "metadata": {},
     "output_type": "execute_result"
    },
    {
     "data": {
      "text/plain": [
       "Text(51.0, 0.5, 'True')"
      ]
     },
     "execution_count": 229,
     "metadata": {},
     "output_type": "execute_result"
    },
    {
     "data": {
      "text/plain": [
       "Text(0.5, 42.0, 'Predicted')"
      ]
     },
     "execution_count": 229,
     "metadata": {},
     "output_type": "execute_result"
    },
    {
     "data": {
      "image/png": "[encoded data removed]",
      "text/plain": [
       "<Figure size 576x504 with 2 Axes>"
      ]
     },
     "metadata": {
      "needs_background": "light"
     },
     "output_type": "display_data"
    }
   ],
   "source": [
    "confusion_matrix = sk.metrics.confusion_matrix(y_test,predictions)\n",
    "outcomes = ['Under','Over','Even']\n",
    "\n",
    "df_cm = pd.DataFrame(confusion_matrix, index = outcomes, columns = outcomes)\n",
    "plt.figure(figsize = (8,7))\n",
    "sn.heatmap(df_cm, annot=True)\n",
    "\n",
    "plt.title('Confusion matrix')\n",
    "plt.ylabel('True')\n",
    "plt.xlabel('Predicted')\n",
    "\n",
    "plt.show()"
   ]
  },
  {
   "attachments": {},
   "cell_type": "markdown",
   "metadata": {},
   "source": [
    "We see that even after removing the total score, advanced offensive/defensive boxscore statistics provide strong predictive power in determining whether the resulting game score is over or under the bookkeeper's initial O/U line. We  are successful for up to 93.73% with in game statistics. A more accurate model would be to use the averaged statistics from the previous 5 games to more accurately model real-life betting conditions. \n",
    "\n",
    "However, our model tells us that offensive/defensive pace and efficiency are very important predictors for O/U betting."
   ]
  },
  {
   "attachments": {},
   "cell_type": "markdown",
   "metadata": {},
   "source": []
  }
 ],
 "metadata": {
  "kernelspec": {
   "display_name": "tensorflow_silicon",
   "language": "python",
   "name": "python3"
  },
  "language_info": {
   "codemirror_mode": {
    "name": "ipython",
    "version": 3
   },
   "file_extension": ".py",
   "mimetype": "text/x-python",
   "name": "python",
   "nbconvert_exporter": "python",
   "pygments_lexer": "ipython3",
   "version": "3.9.16"
  },
  "orig_nbformat": 4
 },
 "nbformat": 4,
 "nbformat_minor": 2
}
