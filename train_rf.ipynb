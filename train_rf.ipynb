{
 "cells": [
  {
   "cell_type": "code",
   "execution_count": 3,
   "metadata": {},
   "outputs": [],
   "source": [
    "import numpy as np\n",
    "import pandas as pd\n",
    "from tqdm import tqdm\n",
    "from sklearn.model_selection import train_test_split\n",
    "from sklearn.ensemble import RandomForestClassifier\n",
    "from sklearn.metrics import confusion_matrix\n",
    "\n",
    "import sys\n",
    "sys.path.append('./src/misc')\n",
    "import tools\n",
    "import sql_tools"
   ]
  },
  {
   "cell_type": "code",
   "execution_count": 4,
   "metadata": {},
   "outputs": [],
   "source": [
    "path_to_data = \"./src/sql/\"\n",
    "data = sql_tools.read_database(path_to_data+\"trailing_database.db\", \"5_game_trailing\")\n",
    "data = data[data['O/U_line']!='']\n",
    "data['O/U_result'] = data.apply(lambda row: tools.OU(row['O/U_line'],float(row['total'])),axis=1)"
   ]
  },
  {
   "cell_type": "code",
   "execution_count": 5,
   "metadata": {},
   "outputs": [],
   "source": [
    "X,y = tools.model_preprocessing(data,(\"2016-01-10\",\"2023-12-12\"))"
   ]
  },
  {
   "attachments": {},
   "cell_type": "markdown",
   "metadata": {},
   "source": [
    "## Random Forest"
   ]
  },
  {
   "cell_type": "code",
   "execution_count": 4,
   "metadata": {},
   "outputs": [
    {
     "name": "stderr",
     "output_type": "stream",
     "text": [
      "  0%|          | 0/20 [00:00<?, ?it/s]"
     ]
    },
    {
     "name": "stdout",
     "output_type": "stream",
     "text": [
      "Trial 0\n"
     ]
    },
    {
     "name": "stderr",
     "output_type": "stream",
     "text": [
      "  5%|▌         | 1/20 [00:16<05:22, 16.98s/it]"
     ]
    },
    {
     "name": "stdout",
     "output_type": "stream",
     "text": [
      "predicted:  [1, 1, 1, 1, 1, 1, 0, 0, 0, 1]\n",
      "true:       [1, 0, 0, 1, 0, 1, 1, 2, 0, 1]\n",
      "accuracy:   50.0\n",
      "Trial 1\n"
     ]
    },
    {
     "name": "stderr",
     "output_type": "stream",
     "text": [
      " 10%|█         | 2/20 [00:33<05:05, 16.98s/it]"
     ]
    },
    {
     "name": "stdout",
     "output_type": "stream",
     "text": [
      "predicted:  [0, 1, 1, 1, 0, 1, 0, 0, 0, 1]\n",
      "true:       [1, 0, 0, 1, 0, 1, 1, 2, 0, 1]\n",
      "accuracy:   50.0\n",
      "Trial 2\n"
     ]
    },
    {
     "name": "stderr",
     "output_type": "stream",
     "text": [
      " 15%|█▌        | 3/20 [00:50<04:46, 16.86s/it]"
     ]
    },
    {
     "name": "stdout",
     "output_type": "stream",
     "text": [
      "predicted:  [0, 0, 0, 1, 0, 1, 0, 0, 0, 1]\n",
      "true:       [1, 0, 0, 1, 0, 1, 1, 2, 0, 1]\n",
      "accuracy:   70.0\n",
      "Trial 3\n"
     ]
    },
    {
     "name": "stderr",
     "output_type": "stream",
     "text": [
      " 20%|██        | 4/20 [01:07<04:30, 16.88s/it]"
     ]
    },
    {
     "name": "stdout",
     "output_type": "stream",
     "text": [
      "predicted:  [0, 1, 0, 1, 0, 1, 0, 0, 0, 1]\n",
      "true:       [1, 0, 0, 1, 0, 1, 1, 2, 0, 1]\n",
      "accuracy:   60.0\n",
      "Trial 4\n"
     ]
    },
    {
     "name": "stderr",
     "output_type": "stream",
     "text": [
      " 25%|██▌       | 5/20 [01:24<04:12, 16.85s/it]"
     ]
    },
    {
     "name": "stdout",
     "output_type": "stream",
     "text": [
      "predicted:  [0, 1, 1, 1, 0, 1, 0, 0, 0, 1]\n",
      "true:       [1, 0, 0, 1, 0, 1, 1, 2, 0, 1]\n",
      "accuracy:   50.0\n",
      "Trial 5\n"
     ]
    },
    {
     "name": "stderr",
     "output_type": "stream",
     "text": [
      " 30%|███       | 6/20 [01:41<03:55, 16.83s/it]"
     ]
    },
    {
     "name": "stdout",
     "output_type": "stream",
     "text": [
      "predicted:  [0, 1, 0, 1, 0, 1, 0, 0, 0, 1]\n",
      "true:       [1, 0, 0, 1, 0, 1, 1, 2, 0, 1]\n",
      "accuracy:   60.0\n",
      "Trial 6\n"
     ]
    },
    {
     "name": "stderr",
     "output_type": "stream",
     "text": [
      " 35%|███▌      | 7/20 [01:58<03:39, 16.86s/it]"
     ]
    },
    {
     "name": "stdout",
     "output_type": "stream",
     "text": [
      "predicted:  [0, 1, 1, 1, 0, 1, 0, 0, 0, 1]\n",
      "true:       [1, 0, 0, 1, 0, 1, 1, 2, 0, 1]\n",
      "accuracy:   50.0\n",
      "Trial 7\n"
     ]
    },
    {
     "name": "stderr",
     "output_type": "stream",
     "text": [
      " 40%|████      | 8/20 [02:15<03:23, 16.92s/it]"
     ]
    },
    {
     "name": "stdout",
     "output_type": "stream",
     "text": [
      "predicted:  [0, 1, 0, 1, 0, 1, 0, 0, 0, 1]\n",
      "true:       [1, 0, 0, 1, 0, 1, 1, 2, 0, 1]\n",
      "accuracy:   60.0\n",
      "Trial 8\n"
     ]
    },
    {
     "name": "stderr",
     "output_type": "stream",
     "text": [
      " 45%|████▌     | 9/20 [02:32<03:05, 16.91s/it]"
     ]
    },
    {
     "name": "stdout",
     "output_type": "stream",
     "text": [
      "predicted:  [0, 1, 1, 1, 0, 1, 0, 0, 0, 1]\n",
      "true:       [1, 0, 0, 1, 0, 1, 1, 2, 0, 1]\n",
      "accuracy:   50.0\n",
      "Trial 9\n"
     ]
    },
    {
     "name": "stderr",
     "output_type": "stream",
     "text": [
      " 50%|█████     | 10/20 [02:49<02:49, 16.95s/it]"
     ]
    },
    {
     "name": "stdout",
     "output_type": "stream",
     "text": [
      "predicted:  [0, 1, 0, 1, 1, 1, 0, 0, 0, 1]\n",
      "true:       [1, 0, 0, 1, 0, 1, 1, 2, 0, 1]\n",
      "accuracy:   50.0\n",
      "Trial 10\n"
     ]
    },
    {
     "name": "stderr",
     "output_type": "stream",
     "text": [
      " 55%|█████▌    | 11/20 [03:06<02:32, 16.95s/it]"
     ]
    },
    {
     "name": "stdout",
     "output_type": "stream",
     "text": [
      "predicted:  [0, 0, 1, 1, 0, 1, 0, 0, 0, 1]\n",
      "true:       [1, 0, 0, 1, 0, 1, 1, 2, 0, 1]\n",
      "accuracy:   60.0\n",
      "Trial 11\n"
     ]
    },
    {
     "name": "stderr",
     "output_type": "stream",
     "text": [
      " 60%|██████    | 12/20 [03:22<02:15, 16.91s/it]"
     ]
    },
    {
     "name": "stdout",
     "output_type": "stream",
     "text": [
      "predicted:  [0, 1, 1, 1, 0, 1, 0, 0, 0, 1]\n",
      "true:       [1, 0, 0, 1, 0, 1, 1, 2, 0, 1]\n",
      "accuracy:   50.0\n",
      "Trial 12\n"
     ]
    },
    {
     "name": "stderr",
     "output_type": "stream",
     "text": [
      " 65%|██████▌   | 13/20 [03:40<01:58, 16.99s/it]"
     ]
    },
    {
     "name": "stdout",
     "output_type": "stream",
     "text": [
      "predicted:  [0, 0, 0, 1, 0, 1, 0, 0, 0, 1]\n",
      "true:       [1, 0, 0, 1, 0, 1, 1, 2, 0, 1]\n",
      "accuracy:   70.0\n",
      "Trial 13\n"
     ]
    },
    {
     "name": "stderr",
     "output_type": "stream",
     "text": [
      " 70%|███████   | 14/20 [03:57<01:42, 17.08s/it]"
     ]
    },
    {
     "name": "stdout",
     "output_type": "stream",
     "text": [
      "predicted:  [0, 1, 1, 1, 0, 1, 0, 0, 0, 1]\n",
      "true:       [1, 0, 0, 1, 0, 1, 1, 2, 0, 1]\n",
      "accuracy:   50.0\n",
      "Trial 14\n"
     ]
    },
    {
     "name": "stderr",
     "output_type": "stream",
     "text": [
      " 75%|███████▌  | 15/20 [04:14<01:25, 17.04s/it]"
     ]
    },
    {
     "name": "stdout",
     "output_type": "stream",
     "text": [
      "predicted:  [0, 1, 1, 1, 1, 1, 0, 0, 0, 1]\n",
      "true:       [1, 0, 0, 1, 0, 1, 1, 2, 0, 1]\n",
      "accuracy:   40.0\n",
      "Trial 15\n"
     ]
    },
    {
     "name": "stderr",
     "output_type": "stream",
     "text": [
      " 80%|████████  | 16/20 [04:31<01:07, 16.97s/it]"
     ]
    },
    {
     "name": "stdout",
     "output_type": "stream",
     "text": [
      "predicted:  [0, 1, 1, 1, 0, 1, 0, 0, 0, 1]\n",
      "true:       [1, 0, 0, 1, 0, 1, 1, 2, 0, 1]\n",
      "accuracy:   50.0\n",
      "Trial 16\n"
     ]
    },
    {
     "name": "stderr",
     "output_type": "stream",
     "text": [
      " 85%|████████▌ | 17/20 [04:47<00:50, 16.84s/it]"
     ]
    },
    {
     "name": "stdout",
     "output_type": "stream",
     "text": [
      "predicted:  [0, 1, 1, 1, 1, 1, 0, 0, 0, 1]\n",
      "true:       [1, 0, 0, 1, 0, 1, 1, 2, 0, 1]\n",
      "accuracy:   40.0\n",
      "Trial 17\n"
     ]
    },
    {
     "name": "stderr",
     "output_type": "stream",
     "text": [
      " 90%|█████████ | 18/20 [05:04<00:33, 16.72s/it]"
     ]
    },
    {
     "name": "stdout",
     "output_type": "stream",
     "text": [
      "predicted:  [0, 1, 1, 1, 0, 1, 0, 0, 0, 1]\n",
      "true:       [1, 0, 0, 1, 0, 1, 1, 2, 0, 1]\n",
      "accuracy:   50.0\n",
      "Trial 18\n"
     ]
    },
    {
     "name": "stderr",
     "output_type": "stream",
     "text": [
      " 95%|█████████▌| 19/20 [05:21<00:16, 16.86s/it]"
     ]
    },
    {
     "name": "stdout",
     "output_type": "stream",
     "text": [
      "predicted:  [1, 0, 1, 1, 0, 1, 0, 0, 0, 1]\n",
      "true:       [1, 0, 0, 1, 0, 1, 1, 2, 0, 1]\n",
      "accuracy:   70.0\n",
      "Trial 19\n"
     ]
    },
    {
     "name": "stderr",
     "output_type": "stream",
     "text": [
      "100%|██████████| 20/20 [05:38<00:00, 16.90s/it]"
     ]
    },
    {
     "name": "stdout",
     "output_type": "stream",
     "text": [
      "predicted:  [0, 1, 1, 1, 0, 1, 0, 0, 0, 1]\n",
      "true:       [1, 0, 0, 1, 0, 1, 1, 2, 0, 1]\n",
      "accuracy:   50.0\n"
     ]
    },
    {
     "name": "stderr",
     "output_type": "stream",
     "text": [
      "\n"
     ]
    }
   ],
   "source": [
    "n = 15\n",
    "n_estimators = 50\n",
    "n_trials = 10\n",
    "OU_results = list(y[-n:])\n",
    "\n",
    "acc_vals = []\n",
    "\n",
    "print(f\"Backtesting for {n} games with {n_estimators} estimators with {n_trials} trials.\\n\")\n",
    "for trial in tqdm(range(0,n_trials)):\n",
    "    pred = []\n",
    "    for i in range(0,n):\n",
    "        rf_model = RandomForestClassifier(n_estimators=n_estimators)\n",
    "        \n",
    "        X_train = X[n+1-i:]\n",
    "        y_train = y[n+1-i:]\n",
    "        \n",
    "        X_test = X[n-i]\n",
    "        y_test = y[n-i]\n",
    "        \n",
    "        rf_model.fit(X_train,y_train)\n",
    "        yhat = rf_model.predict(X_test.reshape(1, -1))\n",
    "        \n",
    "        pred.append(yhat[0])\n",
    "\n",
    "    acc = tools.score_results(OU_results,pred)\n",
    "    acc_vals.append(acc)"
   ]
  },
  {
   "cell_type": "code",
   "execution_count": 11,
   "metadata": {},
   "outputs": [
    {
     "data": {
      "text/plain": [
       "0.5399999999999999"
      ]
     },
     "execution_count": 11,
     "metadata": {},
     "output_type": "execute_result"
    }
   ],
   "source": [
    "overall_acc = sum(acc_vals)/len(acc_vals)\n",
    "print(f\"Random Forest Classifier achieved {overall_acc*100}% overall accruacy for the past {n} games. Accuracy is calculated from {20} trials.\")"
   ]
  },
  {
   "attachments": {},
   "cell_type": "markdown",
   "metadata": {},
   "source": [
    "## NN Model"
   ]
  },
  {
   "cell_type": "code",
   "execution_count": 191,
   "metadata": {},
   "outputs": [],
   "source": [
    "import tensorflow as tf\n",
    "from tensorflow import keras\n",
    "\n",
    "#earling stopping\n",
    "callback = keras.callbacks.EarlyStopping(monitor='loss', patience=10)\n",
    "\n",
    "model = tf.keras.models.Sequential()\n",
    "model.add(keras.layers.Flatten(input_shape = X[0].shape))\n",
    "model.add(tf.keras.layers.Dense(128, activation=\"relu6\"))\n",
    "model.add(keras.layers.Dropout(0.2))\n",
    "model.add(tf.keras.layers.Dense(3, activation=\"softmax\"))\n",
    "\n",
    "model.compile(optimizer='adam', loss='sparse_categorical_crossentropy', metrics=['accuracy'])"
   ]
  },
  {
   "cell_type": "code",
   "execution_count": 197,
   "metadata": {},
   "outputs": [
    {
     "name": "stdout",
     "output_type": "stream",
     "text": [
      "Backtesting for 299 games with 1 trials.\n",
      "\n"
     ]
    },
    {
     "name": "stderr",
     "output_type": "stream",
     "text": [
      "  0%|          | 0/300 [00:00<?, ?it/s]"
     ]
    },
    {
     "name": "stdout",
     "output_type": "stream",
     "text": [
      "Epoch 1/100\n",
      "65/65 [==============================] - 0s 7ms/step - loss: 0.3896 - accuracy: 0.8589 - val_loss: 0.4069 - val_accuracy: 0.8707\n",
      "Epoch 2/100\n",
      "65/65 [==============================] - 0s 6ms/step - loss: 0.4078 - accuracy: 0.8392 - val_loss: 0.4064 - val_accuracy: 0.8595\n",
      "Epoch 3/100\n",
      "65/65 [==============================] - 0s 6ms/step - loss: 0.3893 - accuracy: 0.8589 - val_loss: 0.4060 - val_accuracy: 0.8762\n",
      "Epoch 4/100\n",
      "65/65 [==============================] - 0s 7ms/step - loss: 0.3941 - accuracy: 0.8528 - val_loss: 0.4023 - val_accuracy: 0.8748\n",
      "Epoch 5/100\n",
      "65/65 [==============================] - 1s 8ms/step - loss: 0.3795 - accuracy: 0.8657 - val_loss: 0.4051 - val_accuracy: 0.8720\n",
      "Epoch 6/100\n",
      "65/65 [==============================] - 0s 7ms/step - loss: 0.3879 - accuracy: 0.8587 - val_loss: 0.4017 - val_accuracy: 0.8665\n",
      "Epoch 7/100\n",
      "65/65 [==============================] - 0s 7ms/step - loss: 0.3845 - accuracy: 0.8593 - val_loss: 0.4130 - val_accuracy: 0.8526\n",
      "Epoch 8/100\n",
      "65/65 [==============================] - 0s 7ms/step - loss: 0.3785 - accuracy: 0.8633 - val_loss: 0.4004 - val_accuracy: 0.8609\n",
      "Epoch 9/100\n",
      "65/65 [==============================] - 0s 7ms/step - loss: 0.3839 - accuracy: 0.8623 - val_loss: 0.4176 - val_accuracy: 0.8484\n",
      "Epoch 10/100\n",
      "65/65 [==============================] - 0s 7ms/step - loss: 0.3807 - accuracy: 0.8606 - val_loss: 0.4157 - val_accuracy: 0.8442\n",
      "Epoch 11/100\n",
      "65/65 [==============================] - 0s 7ms/step - loss: 0.3908 - accuracy: 0.8553 - val_loss: 0.3946 - val_accuracy: 0.8651\n",
      "Epoch 12/100\n",
      "65/65 [==============================] - 0s 8ms/step - loss: 0.3787 - accuracy: 0.8607 - val_loss: 0.4174 - val_accuracy: 0.8442\n",
      "Epoch 13/100\n",
      "65/65 [==============================] - 0s 7ms/step - loss: 0.3735 - accuracy: 0.8720 - val_loss: 0.5164 - val_accuracy: 0.7483\n",
      "Epoch 14/100\n",
      "65/65 [==============================] - 0s 7ms/step - loss: 0.3833 - accuracy: 0.8562 - val_loss: 0.4158 - val_accuracy: 0.8456\n",
      "Epoch 15/100\n",
      "65/65 [==============================] - 1s 8ms/step - loss: 0.3733 - accuracy: 0.8660 - val_loss: 0.3953 - val_accuracy: 0.8623\n",
      "Epoch 16/100\n",
      "65/65 [==============================] - 0s 7ms/step - loss: 0.3720 - accuracy: 0.8669 - val_loss: 0.4020 - val_accuracy: 0.8554\n",
      "Epoch 17/100\n",
      "65/65 [==============================] - 0s 7ms/step - loss: 0.3785 - accuracy: 0.8595 - val_loss: 0.3941 - val_accuracy: 0.8748\n",
      "Epoch 18/100\n",
      "65/65 [==============================] - 0s 7ms/step - loss: 0.3704 - accuracy: 0.8669 - val_loss: 0.3876 - val_accuracy: 0.8637\n",
      "Epoch 19/100\n",
      "65/65 [==============================] - 0s 6ms/step - loss: 0.3686 - accuracy: 0.8646 - val_loss: 0.3864 - val_accuracy: 0.8776\n",
      "Epoch 20/100\n",
      "65/65 [==============================] - 0s 6ms/step - loss: 0.3645 - accuracy: 0.8719 - val_loss: 0.3894 - val_accuracy: 0.8665\n",
      "Epoch 21/100\n",
      "65/65 [==============================] - 0s 6ms/step - loss: 0.3702 - accuracy: 0.8660 - val_loss: 0.3977 - val_accuracy: 0.8554\n",
      "Epoch 22/100\n",
      "65/65 [==============================] - 0s 7ms/step - loss: 0.3661 - accuracy: 0.8715 - val_loss: 0.3874 - val_accuracy: 0.8665\n",
      "Epoch 23/100\n",
      "65/65 [==============================] - 0s 6ms/step - loss: 0.3637 - accuracy: 0.8711 - val_loss: 0.3895 - val_accuracy: 0.8651\n",
      "Epoch 24/100\n",
      "65/65 [==============================] - 0s 6ms/step - loss: 0.3662 - accuracy: 0.8624 - val_loss: 0.4069 - val_accuracy: 0.8456\n",
      "Epoch 25/100\n",
      "65/65 [==============================] - 0s 7ms/step - loss: 0.3608 - accuracy: 0.8663 - val_loss: 0.3931 - val_accuracy: 0.8762\n",
      "Epoch 26/100\n",
      "65/65 [==============================] - 0s 8ms/step - loss: 0.3760 - accuracy: 0.8559 - val_loss: 0.3977 - val_accuracy: 0.8540\n",
      "Epoch 27/100\n",
      "65/65 [==============================] - 0s 7ms/step - loss: 0.3640 - accuracy: 0.8677 - val_loss: 0.3961 - val_accuracy: 0.8498\n",
      "Epoch 28/100\n",
      "65/65 [==============================] - 0s 7ms/step - loss: 0.3580 - accuracy: 0.8725 - val_loss: 0.3943 - val_accuracy: 0.8498\n",
      "Epoch 29/100\n",
      "65/65 [==============================] - 0s 6ms/step - loss: 0.3587 - accuracy: 0.8711 - val_loss: 0.4451 - val_accuracy: 0.8081\n",
      "Epoch 30/100\n",
      "65/65 [==============================] - 0s 7ms/step - loss: 0.3725 - accuracy: 0.8598 - val_loss: 0.3794 - val_accuracy: 0.8734\n",
      "Epoch 31/100\n",
      "65/65 [==============================] - 0s 7ms/step - loss: 0.3647 - accuracy: 0.8626 - val_loss: 0.3770 - val_accuracy: 0.8720\n",
      "Epoch 32/100\n",
      "65/65 [==============================] - 0s 7ms/step - loss: 0.3600 - accuracy: 0.8650 - val_loss: 0.3794 - val_accuracy: 0.8734\n",
      "Epoch 33/100\n",
      "65/65 [==============================] - 0s 6ms/step - loss: 0.3584 - accuracy: 0.8666 - val_loss: 0.4014 - val_accuracy: 0.8428\n"
     ]
    },
    {
     "name": "stderr",
     "output_type": "stream",
     "text": [
      "  1%|          | 2/300 [00:15<37:15,  7.50s/it]"
     ]
    },
    {
     "name": "stdout",
     "output_type": "stream",
     "text": [
      "Epoch 1/100\n",
      "65/65 [==============================] - 1s 9ms/step - loss: 0.3573 - accuracy: 0.8691 - val_loss: 0.3722 - val_accuracy: 0.8637\n",
      "Epoch 2/100\n",
      "65/65 [==============================] - 0s 7ms/step - loss: 0.3575 - accuracy: 0.8708 - val_loss: 0.3736 - val_accuracy: 0.8693\n",
      "Epoch 3/100\n",
      "65/65 [==============================] - 0s 7ms/step - loss: 0.3562 - accuracy: 0.8658 - val_loss: 0.3716 - val_accuracy: 0.8762\n",
      "Epoch 4/100\n",
      "65/65 [==============================] - 0s 7ms/step - loss: 0.3517 - accuracy: 0.8736 - val_loss: 0.3693 - val_accuracy: 0.8748\n",
      "Epoch 5/100\n",
      "65/65 [==============================] - 0s 7ms/step - loss: 0.3532 - accuracy: 0.8675 - val_loss: 0.4070 - val_accuracy: 0.8414\n",
      "Epoch 6/100\n",
      "65/65 [==============================] - 0s 7ms/step - loss: 0.3484 - accuracy: 0.8743 - val_loss: 0.3675 - val_accuracy: 0.8665\n",
      "Epoch 7/100\n",
      "65/65 [==============================] - 0s 7ms/step - loss: 0.3550 - accuracy: 0.8689 - val_loss: 0.4113 - val_accuracy: 0.8401\n",
      "Epoch 8/100\n",
      "65/65 [==============================] - 0s 7ms/step - loss: 0.3483 - accuracy: 0.8730 - val_loss: 0.3679 - val_accuracy: 0.8665\n",
      "Epoch 9/100\n",
      "65/65 [==============================] - 0s 7ms/step - loss: 0.3474 - accuracy: 0.8699 - val_loss: 0.3680 - val_accuracy: 0.8720\n",
      "Epoch 10/100\n",
      "65/65 [==============================] - 0s 7ms/step - loss: 0.3502 - accuracy: 0.8697 - val_loss: 0.3659 - val_accuracy: 0.8637\n",
      "Epoch 11/100\n",
      "65/65 [==============================] - 0s 7ms/step - loss: 0.3545 - accuracy: 0.8632 - val_loss: 0.3681 - val_accuracy: 0.8623\n",
      "Epoch 12/100\n",
      "65/65 [==============================] - 1s 8ms/step - loss: 0.3471 - accuracy: 0.8730 - val_loss: 0.3712 - val_accuracy: 0.8762\n",
      "Epoch 13/100\n",
      "65/65 [==============================] - 0s 7ms/step - loss: 0.3499 - accuracy: 0.8672 - val_loss: 0.3649 - val_accuracy: 0.8707\n",
      "Epoch 14/100\n",
      "65/65 [==============================] - 0s 6ms/step - loss: 0.3597 - accuracy: 0.8577 - val_loss: 0.3640 - val_accuracy: 0.8693\n",
      "Epoch 15/100\n",
      "65/65 [==============================] - 0s 7ms/step - loss: 0.3511 - accuracy: 0.8703 - val_loss: 0.5027 - val_accuracy: 0.7608\n",
      "Epoch 16/100\n",
      "65/65 [==============================] - 1s 9ms/step - loss: 0.3504 - accuracy: 0.8669 - val_loss: 0.3794 - val_accuracy: 0.8554\n",
      "Epoch 17/100\n",
      "65/65 [==============================] - 1s 9ms/step - loss: 0.3504 - accuracy: 0.8655 - val_loss: 0.4134 - val_accuracy: 0.8331\n"
     ]
    },
    {
     "name": "stderr",
     "output_type": "stream",
     "text": [
      "  1%|          | 3/300 [00:23<38:29,  7.77s/it]"
     ]
    },
    {
     "name": "stdout",
     "output_type": "stream",
     "text": [
      "Epoch 1/100\n",
      "65/65 [==============================] - 1s 10ms/step - loss: 0.3544 - accuracy: 0.8640 - val_loss: 0.3750 - val_accuracy: 0.8567\n",
      "Epoch 2/100\n",
      "65/65 [==============================] - 1s 8ms/step - loss: 0.3399 - accuracy: 0.8764 - val_loss: 0.3649 - val_accuracy: 0.8651\n",
      "Epoch 3/100\n",
      "65/65 [==============================] - 0s 7ms/step - loss: 0.3441 - accuracy: 0.8673 - val_loss: 0.3684 - val_accuracy: 0.8748\n",
      "Epoch 4/100\n",
      "65/65 [==============================] - 0s 7ms/step - loss: 0.3531 - accuracy: 0.8628 - val_loss: 0.3642 - val_accuracy: 0.8665\n",
      "Epoch 5/100\n",
      "65/65 [==============================] - 0s 7ms/step - loss: 0.3442 - accuracy: 0.8674 - val_loss: 0.3629 - val_accuracy: 0.8665\n",
      "Epoch 6/100\n",
      "65/65 [==============================] - 0s 7ms/step - loss: 0.3355 - accuracy: 0.8832 - val_loss: 0.4473 - val_accuracy: 0.8039\n",
      "Epoch 7/100\n",
      "65/65 [==============================] - 0s 7ms/step - loss: 0.3444 - accuracy: 0.8663 - val_loss: 0.3971 - val_accuracy: 0.8428\n",
      "Epoch 8/100\n",
      "65/65 [==============================] - 1s 9ms/step - loss: 0.3447 - accuracy: 0.8683 - val_loss: 0.3758 - val_accuracy: 0.8595\n",
      "Epoch 9/100\n",
      "65/65 [==============================] - 1s 9ms/step - loss: 0.3363 - accuracy: 0.8733 - val_loss: 0.3572 - val_accuracy: 0.8679\n",
      "Epoch 10/100\n",
      "65/65 [==============================] - 0s 7ms/step - loss: 0.3462 - accuracy: 0.8652 - val_loss: 0.3661 - val_accuracy: 0.8720\n",
      "Epoch 11/100\n",
      "65/65 [==============================] - 1s 9ms/step - loss: 0.3421 - accuracy: 0.8676 - val_loss: 0.3595 - val_accuracy: 0.8748\n"
     ]
    },
    {
     "name": "stderr",
     "output_type": "stream",
     "text": [
      "  1%|▏         | 4/300 [00:28<34:33,  7.01s/it]"
     ]
    },
    {
     "name": "stdout",
     "output_type": "stream",
     "text": [
      "Epoch 1/100\n",
      "65/65 [==============================] - 1s 9ms/step - loss: 0.3386 - accuracy: 0.8731 - val_loss: 0.4092 - val_accuracy: 0.8375\n",
      "Epoch 2/100\n",
      "65/65 [==============================] - 0s 7ms/step - loss: 0.3372 - accuracy: 0.8737 - val_loss: 0.3568 - val_accuracy: 0.8722\n",
      "Epoch 3/100\n",
      "65/65 [==============================] - 0s 7ms/step - loss: 0.3395 - accuracy: 0.8700 - val_loss: 0.3657 - val_accuracy: 0.8625\n",
      "Epoch 4/100\n",
      "65/65 [==============================] - 1s 8ms/step - loss: 0.3403 - accuracy: 0.8697 - val_loss: 0.3938 - val_accuracy: 0.8444\n",
      "Epoch 5/100\n",
      "65/65 [==============================] - 1s 9ms/step - loss: 0.3308 - accuracy: 0.8762 - val_loss: 0.3571 - val_accuracy: 0.8708\n",
      "Epoch 6/100\n",
      "65/65 [==============================] - 1s 8ms/step - loss: 0.3298 - accuracy: 0.8795 - val_loss: 0.3608 - val_accuracy: 0.8722\n",
      "Epoch 7/100\n",
      "65/65 [==============================] - 0s 8ms/step - loss: 0.3319 - accuracy: 0.8782 - val_loss: 0.3582 - val_accuracy: 0.8708\n",
      "Epoch 8/100\n",
      "65/65 [==============================] - 1s 8ms/step - loss: 0.3291 - accuracy: 0.8827 - val_loss: 0.4084 - val_accuracy: 0.8347\n",
      "Epoch 9/100\n",
      "65/65 [==============================] - 0s 7ms/step - loss: 0.3333 - accuracy: 0.8710 - val_loss: 0.3507 - val_accuracy: 0.8708\n",
      "Epoch 10/100\n",
      "65/65 [==============================] - 0s 7ms/step - loss: 0.3340 - accuracy: 0.8725 - val_loss: 0.3585 - val_accuracy: 0.8778\n",
      "Epoch 11/100\n",
      "65/65 [==============================] - 0s 7ms/step - loss: 0.3361 - accuracy: 0.8700 - val_loss: 0.3938 - val_accuracy: 0.8486\n",
      "Epoch 12/100\n",
      "65/65 [==============================] - 0s 7ms/step - loss: 0.3317 - accuracy: 0.8705 - val_loss: 0.3506 - val_accuracy: 0.8639\n",
      "Epoch 13/100\n",
      "65/65 [==============================] - 0s 7ms/step - loss: 0.3306 - accuracy: 0.8736 - val_loss: 0.3894 - val_accuracy: 0.8444\n"
     ]
    },
    {
     "name": "stderr",
     "output_type": "stream",
     "text": [
      "  2%|▏         | 5/300 [00:35<33:40,  6.85s/it]"
     ]
    },
    {
     "name": "stdout",
     "output_type": "stream",
     "text": [
      "Epoch 1/100\n",
      "65/65 [==============================] - 1s 9ms/step - loss: 0.3464 - accuracy: 0.8637 - val_loss: 0.3622 - val_accuracy: 0.8792\n",
      "Epoch 2/100\n",
      "65/65 [==============================] - 0s 7ms/step - loss: 0.3336 - accuracy: 0.8677 - val_loss: 0.3676 - val_accuracy: 0.8597\n",
      "Epoch 3/100\n",
      "65/65 [==============================] - 0s 8ms/step - loss: 0.3236 - accuracy: 0.8789 - val_loss: 0.3572 - val_accuracy: 0.8639\n",
      "Epoch 4/100\n",
      "65/65 [==============================] - 0s 7ms/step - loss: 0.3280 - accuracy: 0.8755 - val_loss: 0.3927 - val_accuracy: 0.8458\n",
      "Epoch 5/100\n",
      "65/65 [==============================] - 0s 7ms/step - loss: 0.3312 - accuracy: 0.8728 - val_loss: 0.3701 - val_accuracy: 0.8611\n",
      "Epoch 6/100\n",
      "65/65 [==============================] - 1s 8ms/step - loss: 0.3249 - accuracy: 0.8778 - val_loss: 0.3511 - val_accuracy: 0.8722\n",
      "Epoch 7/100\n",
      "65/65 [==============================] - 0s 7ms/step - loss: 0.3184 - accuracy: 0.8829 - val_loss: 0.3554 - val_accuracy: 0.8667\n",
      "Epoch 8/100\n",
      "65/65 [==============================] - 0s 7ms/step - loss: 0.3365 - accuracy: 0.8670 - val_loss: 0.3806 - val_accuracy: 0.8542\n",
      "Epoch 9/100\n",
      "65/65 [==============================] - 0s 7ms/step - loss: 0.3212 - accuracy: 0.8832 - val_loss: 0.3488 - val_accuracy: 0.8736\n",
      "Epoch 10/100\n",
      "65/65 [==============================] - 0s 7ms/step - loss: 0.3232 - accuracy: 0.8799 - val_loss: 0.3698 - val_accuracy: 0.8583\n",
      "Epoch 11/100\n",
      "65/65 [==============================] - 0s 7ms/step - loss: 0.3309 - accuracy: 0.8690 - val_loss: 0.3501 - val_accuracy: 0.8694\n",
      "Epoch 12/100\n",
      "65/65 [==============================] - 0s 7ms/step - loss: 0.3324 - accuracy: 0.8699 - val_loss: 0.4500 - val_accuracy: 0.8125\n"
     ]
    },
    {
     "name": "stderr",
     "output_type": "stream",
     "text": [
      "  2%|▏         | 6/300 [00:41<31:52,  6.51s/it]"
     ]
    },
    {
     "name": "stdout",
     "output_type": "stream",
     "text": [
      "Epoch 1/100\n",
      "65/65 [==============================] - 1s 9ms/step - loss: 0.3323 - accuracy: 0.8719 - val_loss: 0.4011 - val_accuracy: 0.8389\n",
      "Epoch 2/100\n",
      "65/65 [==============================] - 0s 7ms/step - loss: 0.3312 - accuracy: 0.8701 - val_loss: 0.3584 - val_accuracy: 0.8625\n",
      "Epoch 3/100\n",
      "65/65 [==============================] - 0s 7ms/step - loss: 0.3243 - accuracy: 0.8783 - val_loss: 0.3549 - val_accuracy: 0.8694\n",
      "Epoch 4/100\n",
      "65/65 [==============================] - 0s 7ms/step - loss: 0.3181 - accuracy: 0.8792 - val_loss: 0.3550 - val_accuracy: 0.8653\n",
      "Epoch 5/100\n",
      "65/65 [==============================] - 0s 7ms/step - loss: 0.3250 - accuracy: 0.8769 - val_loss: 0.3490 - val_accuracy: 0.8708\n",
      "Epoch 6/100\n",
      "65/65 [==============================] - 0s 7ms/step - loss: 0.3165 - accuracy: 0.8815 - val_loss: 0.3520 - val_accuracy: 0.8667\n",
      "Epoch 7/100\n",
      "65/65 [==============================] - 1s 8ms/step - loss: 0.3171 - accuracy: 0.8763 - val_loss: 0.3420 - val_accuracy: 0.8653\n",
      "Epoch 8/100\n",
      "65/65 [==============================] - 0s 7ms/step - loss: 0.3143 - accuracy: 0.8831 - val_loss: 0.3422 - val_accuracy: 0.8653\n",
      "Epoch 9/100\n",
      "65/65 [==============================] - 0s 7ms/step - loss: 0.3258 - accuracy: 0.8705 - val_loss: 0.3712 - val_accuracy: 0.8556\n",
      "Epoch 10/100\n",
      "65/65 [==============================] - 0s 7ms/step - loss: 0.3173 - accuracy: 0.8806 - val_loss: 0.3558 - val_accuracy: 0.8653\n",
      "Epoch 11/100\n",
      "65/65 [==============================] - 1s 8ms/step - loss: 0.3171 - accuracy: 0.8764 - val_loss: 0.3714 - val_accuracy: 0.8542\n",
      "Epoch 12/100\n",
      "65/65 [==============================] - 1s 9ms/step - loss: 0.3126 - accuracy: 0.8857 - val_loss: 0.3430 - val_accuracy: 0.8708\n",
      "Epoch 13/100\n",
      "65/65 [==============================] - 1s 9ms/step - loss: 0.3473 - accuracy: 0.8599 - val_loss: 0.3525 - val_accuracy: 0.8792\n",
      "Epoch 14/100\n",
      "65/65 [==============================] - 0s 8ms/step - loss: 0.3206 - accuracy: 0.8732 - val_loss: 0.3628 - val_accuracy: 0.8611\n",
      "Epoch 15/100\n",
      "65/65 [==============================] - 0s 8ms/step - loss: 0.3160 - accuracy: 0.8787 - val_loss: 0.3526 - val_accuracy: 0.8764\n",
      "Epoch 16/100\n",
      "65/65 [==============================] - 0s 8ms/step - loss: 0.3260 - accuracy: 0.8712 - val_loss: 0.3433 - val_accuracy: 0.8764\n",
      "Epoch 17/100\n",
      "65/65 [==============================] - 1s 8ms/step - loss: 0.3204 - accuracy: 0.8778 - val_loss: 0.3668 - val_accuracy: 0.8625\n"
     ]
    },
    {
     "name": "stderr",
     "output_type": "stream",
     "text": [
      "  2%|▏         | 7/300 [00:49<34:55,  7.15s/it]"
     ]
    },
    {
     "name": "stdout",
     "output_type": "stream",
     "text": [
      "Epoch 1/100\n",
      "65/65 [==============================] - 1s 9ms/step - loss: 0.3294 - accuracy: 0.8703 - val_loss: 0.3950 - val_accuracy: 0.8361\n",
      "Epoch 2/100\n",
      "65/65 [==============================] - 0s 8ms/step - loss: 0.3163 - accuracy: 0.8798 - val_loss: 0.3407 - val_accuracy: 0.8708\n",
      "Epoch 3/100\n",
      "65/65 [==============================] - 0s 8ms/step - loss: 0.3184 - accuracy: 0.8809 - val_loss: 0.3351 - val_accuracy: 0.8681\n",
      "Epoch 4/100\n",
      "65/65 [==============================] - 0s 7ms/step - loss: 0.3440 - accuracy: 0.8624 - val_loss: 0.3509 - val_accuracy: 0.8681\n",
      "Epoch 5/100\n",
      "65/65 [==============================] - 0s 7ms/step - loss: 0.3087 - accuracy: 0.8876 - val_loss: 0.3379 - val_accuracy: 0.8681\n",
      "Epoch 6/100\n",
      "65/65 [==============================] - 1s 8ms/step - loss: 0.3145 - accuracy: 0.8818 - val_loss: 0.3369 - val_accuracy: 0.8722\n",
      "Epoch 7/100\n",
      "65/65 [==============================] - 1s 8ms/step - loss: 0.3122 - accuracy: 0.8828 - val_loss: 0.3383 - val_accuracy: 0.8778\n",
      "Epoch 8/100\n",
      "65/65 [==============================] - 0s 7ms/step - loss: 0.3153 - accuracy: 0.8784 - val_loss: 0.3348 - val_accuracy: 0.8708\n",
      "Epoch 9/100\n",
      "65/65 [==============================] - 0s 7ms/step - loss: 0.3355 - accuracy: 0.8644 - val_loss: 0.3889 - val_accuracy: 0.8472\n",
      "Epoch 10/100\n",
      "65/65 [==============================] - 0s 7ms/step - loss: 0.3194 - accuracy: 0.8778 - val_loss: 0.3639 - val_accuracy: 0.8611\n"
     ]
    },
    {
     "name": "stderr",
     "output_type": "stream",
     "text": [
      "  3%|▎         | 8/300 [00:54<31:35,  6.49s/it]"
     ]
    },
    {
     "name": "stdout",
     "output_type": "stream",
     "text": [
      "Epoch 1/100\n",
      "65/65 [==============================] - 1s 10ms/step - loss: 0.3103 - accuracy: 0.8806 - val_loss: 0.3343 - val_accuracy: 0.8667\n",
      "Epoch 2/100\n",
      "65/65 [==============================] - 0s 7ms/step - loss: 0.3318 - accuracy: 0.8721 - val_loss: 0.4557 - val_accuracy: 0.8056\n",
      "Epoch 3/100\n",
      "65/65 [==============================] - 1s 9ms/step - loss: 0.3371 - accuracy: 0.8655 - val_loss: 0.3383 - val_accuracy: 0.8806\n",
      "Epoch 4/100\n",
      "65/65 [==============================] - 1s 8ms/step - loss: 0.3114 - accuracy: 0.8825 - val_loss: 0.3351 - val_accuracy: 0.8708\n",
      "Epoch 5/100\n",
      "65/65 [==============================] - 1s 9ms/step - loss: 0.3190 - accuracy: 0.8751 - val_loss: 0.3365 - val_accuracy: 0.8750\n",
      "Epoch 6/100\n",
      "65/65 [==============================] - 1s 8ms/step - loss: 0.3148 - accuracy: 0.8828 - val_loss: 0.3887 - val_accuracy: 0.8444\n"
     ]
    },
    {
     "name": "stderr",
     "output_type": "stream",
     "text": [
      "  3%|▎         | 9/300 [00:58<26:52,  5.54s/it]"
     ]
    },
    {
     "name": "stdout",
     "output_type": "stream",
     "text": [
      "Epoch 1/100\n",
      "65/65 [==============================] - 1s 9ms/step - loss: 0.3079 - accuracy: 0.8822 - val_loss: 0.3477 - val_accuracy: 0.8667\n",
      "Epoch 2/100\n",
      "65/65 [==============================] - 0s 7ms/step - loss: 0.3052 - accuracy: 0.8859 - val_loss: 0.3323 - val_accuracy: 0.8806\n",
      "Epoch 3/100\n",
      "65/65 [==============================] - 0s 7ms/step - loss: 0.3106 - accuracy: 0.8794 - val_loss: 0.3452 - val_accuracy: 0.8639\n",
      "Epoch 4/100\n",
      "65/65 [==============================] - 0s 7ms/step - loss: 0.3059 - accuracy: 0.8885 - val_loss: 0.3410 - val_accuracy: 0.8681\n",
      "Epoch 5/100\n",
      "65/65 [==============================] - 0s 7ms/step - loss: 0.3116 - accuracy: 0.8797 - val_loss: 0.4044 - val_accuracy: 0.8347\n",
      "Epoch 6/100\n",
      "65/65 [==============================] - 0s 7ms/step - loss: 0.3113 - accuracy: 0.8792 - val_loss: 0.3449 - val_accuracy: 0.8667\n",
      "Epoch 7/100\n",
      "65/65 [==============================] - 0s 7ms/step - loss: 0.3042 - accuracy: 0.8847 - val_loss: 0.3887 - val_accuracy: 0.8444\n",
      "Epoch 8/100\n",
      "65/65 [==============================] - 0s 7ms/step - loss: 0.3107 - accuracy: 0.8817 - val_loss: 0.3323 - val_accuracy: 0.8750\n",
      "Epoch 9/100\n",
      "65/65 [==============================] - 0s 7ms/step - loss: 0.3103 - accuracy: 0.8797 - val_loss: 0.5118 - val_accuracy: 0.7708\n",
      "Epoch 10/100\n",
      "65/65 [==============================] - 0s 7ms/step - loss: 0.3194 - accuracy: 0.8782 - val_loss: 0.3398 - val_accuracy: 0.8625\n",
      "Epoch 11/100\n",
      "65/65 [==============================] - 0s 7ms/step - loss: 0.3171 - accuracy: 0.8779 - val_loss: 0.3495 - val_accuracy: 0.8639\n",
      "Epoch 12/100\n",
      "65/65 [==============================] - 0s 7ms/step - loss: 0.3053 - accuracy: 0.8865 - val_loss: 0.3317 - val_accuracy: 0.8653\n"
     ]
    },
    {
     "name": "stderr",
     "output_type": "stream",
     "text": [
      "  3%|▎         | 10/300 [01:03<27:02,  5.59s/it]"
     ]
    },
    {
     "name": "stdout",
     "output_type": "stream",
     "text": [
      "Epoch 1/100\n",
      "65/65 [==============================] - 1s 10ms/step - loss: 0.3042 - accuracy: 0.8842 - val_loss: 0.3561 - val_accuracy: 0.8625\n",
      "Epoch 2/100\n",
      "65/65 [==============================] - 0s 8ms/step - loss: 0.3020 - accuracy: 0.8858 - val_loss: 0.3337 - val_accuracy: 0.8764\n",
      "Epoch 3/100\n",
      "65/65 [==============================] - 1s 8ms/step - loss: 0.3191 - accuracy: 0.8754 - val_loss: 0.3339 - val_accuracy: 0.8792\n",
      "Epoch 4/100\n",
      "65/65 [==============================] - 1s 8ms/step - loss: 0.3073 - accuracy: 0.8825 - val_loss: 0.3605 - val_accuracy: 0.8611\n",
      "Epoch 5/100\n",
      "65/65 [==============================] - 0s 7ms/step - loss: 0.3041 - accuracy: 0.8875 - val_loss: 0.3319 - val_accuracy: 0.8681\n",
      "Epoch 6/100\n",
      "65/65 [==============================] - 1s 8ms/step - loss: 0.3040 - accuracy: 0.8822 - val_loss: 0.3605 - val_accuracy: 0.8597\n",
      "Epoch 7/100\n",
      "65/65 [==============================] - 0s 7ms/step - loss: 0.3093 - accuracy: 0.8790 - val_loss: 0.3287 - val_accuracy: 0.8722\n"
     ]
    },
    {
     "name": "stderr",
     "output_type": "stream",
     "text": [
      "  4%|▍         | 12/300 [01:07<18:28,  3.85s/it]"
     ]
    },
    {
     "name": "stdout",
     "output_type": "stream",
     "text": [
      "Epoch 1/100\n",
      "65/65 [==============================] - 1s 10ms/step - loss: 0.3151 - accuracy: 0.8745 - val_loss: 0.3547 - val_accuracy: 0.8611\n",
      "Epoch 2/100\n",
      "65/65 [==============================] - 1s 8ms/step - loss: 0.3129 - accuracy: 0.8775 - val_loss: 0.3397 - val_accuracy: 0.8708\n",
      "Epoch 3/100\n",
      "65/65 [==============================] - 1s 8ms/step - loss: 0.3060 - accuracy: 0.8842 - val_loss: 0.3554 - val_accuracy: 0.8625\n",
      "Epoch 4/100\n",
      "65/65 [==============================] - 0s 8ms/step - loss: 0.3106 - accuracy: 0.8796 - val_loss: 0.3367 - val_accuracy: 0.8653\n",
      "Epoch 5/100\n",
      "65/65 [==============================] - 1s 8ms/step - loss: 0.3075 - accuracy: 0.8815 - val_loss: 0.3509 - val_accuracy: 0.8653\n",
      "Epoch 6/100\n",
      "65/65 [==============================] - 1s 8ms/step - loss: 0.3067 - accuracy: 0.8793 - val_loss: 0.3306 - val_accuracy: 0.8778\n",
      "Epoch 7/100\n",
      "65/65 [==============================] - 1s 8ms/step - loss: 0.3010 - accuracy: 0.8842 - val_loss: 0.3325 - val_accuracy: 0.8681\n",
      "Epoch 8/100\n",
      "65/65 [==============================] - 0s 7ms/step - loss: 0.3156 - accuracy: 0.8756 - val_loss: 0.3325 - val_accuracy: 0.8750\n",
      "Epoch 9/100\n",
      "65/65 [==============================] - 0s 8ms/step - loss: 0.3078 - accuracy: 0.8796 - val_loss: 0.3625 - val_accuracy: 0.8569\n",
      "Epoch 10/100\n",
      "65/65 [==============================] - 1s 8ms/step - loss: 0.3046 - accuracy: 0.8813 - val_loss: 0.3802 - val_accuracy: 0.8500\n",
      "Epoch 11/100\n",
      "65/65 [==============================] - 0s 8ms/step - loss: 0.3221 - accuracy: 0.8714 - val_loss: 0.3341 - val_accuracy: 0.8708\n",
      "Epoch 12/100\n",
      "65/65 [==============================] - 0s 8ms/step - loss: 0.3153 - accuracy: 0.8722 - val_loss: 0.3975 - val_accuracy: 0.8361\n"
     ]
    },
    {
     "name": "stderr",
     "output_type": "stream",
     "text": [
      "  4%|▍         | 13/300 [01:13<21:20,  4.46s/it]"
     ]
    },
    {
     "name": "stdout",
     "output_type": "stream",
     "text": [
      "Epoch 1/100\n",
      "65/65 [==============================] - 1s 9ms/step - loss: 0.3053 - accuracy: 0.8818 - val_loss: 0.3318 - val_accuracy: 0.8750\n",
      "Epoch 2/100\n",
      "65/65 [==============================] - 0s 7ms/step - loss: 0.2969 - accuracy: 0.8887 - val_loss: 0.3324 - val_accuracy: 0.8639\n",
      "Epoch 3/100\n",
      "65/65 [==============================] - 1s 9ms/step - loss: 0.2984 - accuracy: 0.8846 - val_loss: 0.3485 - val_accuracy: 0.8653\n",
      "Epoch 4/100\n",
      "65/65 [==============================] - 1s 8ms/step - loss: 0.3025 - accuracy: 0.8850 - val_loss: 0.3368 - val_accuracy: 0.8708\n",
      "Epoch 5/100\n",
      "65/65 [==============================] - 0s 7ms/step - loss: 0.3010 - accuracy: 0.8830 - val_loss: 0.3536 - val_accuracy: 0.8639\n",
      "Epoch 6/100\n",
      "65/65 [==============================] - 0s 7ms/step - loss: 0.2971 - accuracy: 0.8864 - val_loss: 0.3284 - val_accuracy: 0.8694\n",
      "Epoch 7/100\n",
      "65/65 [==============================] - 0s 7ms/step - loss: 0.3028 - accuracy: 0.8813 - val_loss: 0.3237 - val_accuracy: 0.8764\n"
     ]
    },
    {
     "name": "stderr",
     "output_type": "stream",
     "text": [
      "  5%|▍         | 14/300 [01:17<20:10,  4.23s/it]"
     ]
    },
    {
     "name": "stdout",
     "output_type": "stream",
     "text": [
      "Epoch 1/100\n",
      "65/65 [==============================] - 1s 9ms/step - loss: 0.3228 - accuracy: 0.8710 - val_loss: 0.3266 - val_accuracy: 0.8738\n",
      "Epoch 2/100\n",
      "65/65 [==============================] - 0s 8ms/step - loss: 0.2974 - accuracy: 0.8853 - val_loss: 0.3501 - val_accuracy: 0.8655\n",
      "Epoch 3/100\n",
      "65/65 [==============================] - 0s 8ms/step - loss: 0.3122 - accuracy: 0.8793 - val_loss: 0.4039 - val_accuracy: 0.8350\n",
      "Epoch 4/100\n",
      "65/65 [==============================] - 0s 8ms/step - loss: 0.3071 - accuracy: 0.8807 - val_loss: 0.3291 - val_accuracy: 0.8752\n",
      "Epoch 5/100\n",
      "65/65 [==============================] - 0s 7ms/step - loss: 0.3055 - accuracy: 0.8807 - val_loss: 0.3298 - val_accuracy: 0.8766\n",
      "Epoch 6/100\n",
      "65/65 [==============================] - 0s 7ms/step - loss: 0.2962 - accuracy: 0.8852 - val_loss: 0.4061 - val_accuracy: 0.8363\n",
      "Epoch 7/100\n",
      "65/65 [==============================] - 0s 7ms/step - loss: 0.2971 - accuracy: 0.8850 - val_loss: 0.3562 - val_accuracy: 0.8627\n",
      "Epoch 8/100\n",
      "65/65 [==============================] - 0s 7ms/step - loss: 0.2947 - accuracy: 0.8884 - val_loss: 0.3376 - val_accuracy: 0.8682\n",
      "Epoch 9/100\n",
      "65/65 [==============================] - 0s 7ms/step - loss: 0.2993 - accuracy: 0.8832 - val_loss: 0.3391 - val_accuracy: 0.8752\n",
      "Epoch 10/100\n",
      "65/65 [==============================] - 1s 8ms/step - loss: 0.2976 - accuracy: 0.8860 - val_loss: 0.3352 - val_accuracy: 0.8669\n",
      "Epoch 11/100\n",
      "65/65 [==============================] - 0s 7ms/step - loss: 0.3079 - accuracy: 0.8772 - val_loss: 0.3287 - val_accuracy: 0.8710\n",
      "Epoch 12/100\n",
      "65/65 [==============================] - 0s 7ms/step - loss: 0.2947 - accuracy: 0.8875 - val_loss: 0.3256 - val_accuracy: 0.8682\n",
      "Epoch 13/100\n",
      "65/65 [==============================] - 0s 7ms/step - loss: 0.2909 - accuracy: 0.8910 - val_loss: 0.3397 - val_accuracy: 0.8807\n",
      "Epoch 14/100\n",
      "65/65 [==============================] - 0s 7ms/step - loss: 0.3056 - accuracy: 0.8798 - val_loss: 0.3257 - val_accuracy: 0.8724\n",
      "Epoch 15/100\n",
      "65/65 [==============================] - 0s 7ms/step - loss: 0.3018 - accuracy: 0.8809 - val_loss: 0.3429 - val_accuracy: 0.8558\n",
      "Epoch 16/100\n",
      "65/65 [==============================] - 0s 7ms/step - loss: 0.3067 - accuracy: 0.8798 - val_loss: 0.3361 - val_accuracy: 0.8669\n",
      "Epoch 17/100\n",
      "65/65 [==============================] - 0s 7ms/step - loss: 0.2929 - accuracy: 0.8886 - val_loss: 0.3276 - val_accuracy: 0.8641\n",
      "Epoch 18/100\n",
      "65/65 [==============================] - 0s 7ms/step - loss: 0.2938 - accuracy: 0.8844 - val_loss: 0.3289 - val_accuracy: 0.8682\n"
     ]
    },
    {
     "name": "stderr",
     "output_type": "stream",
     "text": [
      "  5%|▌         | 15/300 [01:26<25:46,  5.43s/it]"
     ]
    },
    {
     "name": "stdout",
     "output_type": "stream",
     "text": [
      "Epoch 1/100\n",
      "65/65 [==============================] - 1s 9ms/step - loss: 0.2965 - accuracy: 0.8908 - val_loss: 0.3296 - val_accuracy: 0.8779\n",
      "Epoch 2/100\n",
      "65/65 [==============================] - 0s 7ms/step - loss: 0.2945 - accuracy: 0.8881 - val_loss: 0.3391 - val_accuracy: 0.8752\n",
      "Epoch 3/100\n",
      "65/65 [==============================] - 0s 7ms/step - loss: 0.3048 - accuracy: 0.8832 - val_loss: 0.3802 - val_accuracy: 0.8544\n",
      "Epoch 4/100\n",
      "65/65 [==============================] - 1s 8ms/step - loss: 0.2932 - accuracy: 0.8857 - val_loss: 0.3309 - val_accuracy: 0.8627\n",
      "Epoch 5/100\n",
      "65/65 [==============================] - 1s 8ms/step - loss: 0.2994 - accuracy: 0.8815 - val_loss: 0.3294 - val_accuracy: 0.8752\n",
      "Epoch 6/100\n",
      "65/65 [==============================] - 1s 8ms/step - loss: 0.2968 - accuracy: 0.8864 - val_loss: 0.3277 - val_accuracy: 0.8696\n",
      "Epoch 7/100\n",
      "65/65 [==============================] - 0s 8ms/step - loss: 0.2894 - accuracy: 0.8895 - val_loss: 0.3290 - val_accuracy: 0.8752\n",
      "Epoch 8/100\n",
      "65/65 [==============================] - 1s 8ms/step - loss: 0.2930 - accuracy: 0.8817 - val_loss: 0.4280 - val_accuracy: 0.8280\n",
      "Epoch 9/100\n",
      "65/65 [==============================] - 1s 9ms/step - loss: 0.2938 - accuracy: 0.8898 - val_loss: 0.3559 - val_accuracy: 0.8738\n",
      "Epoch 10/100\n",
      "65/65 [==============================] - 1s 9ms/step - loss: 0.3107 - accuracy: 0.8716 - val_loss: 0.3292 - val_accuracy: 0.8710\n",
      "Epoch 11/100\n",
      "65/65 [==============================] - 0s 7ms/step - loss: 0.2945 - accuracy: 0.8888 - val_loss: 0.3594 - val_accuracy: 0.8613\n",
      "Epoch 12/100\n",
      "65/65 [==============================] - 1s 9ms/step - loss: 0.2837 - accuracy: 0.8920 - val_loss: 0.3652 - val_accuracy: 0.8599\n",
      "Epoch 13/100\n",
      "65/65 [==============================] - 1s 9ms/step - loss: 0.2973 - accuracy: 0.8857 - val_loss: 0.3270 - val_accuracy: 0.8682\n",
      "Epoch 14/100\n",
      "65/65 [==============================] - 1s 8ms/step - loss: 0.2922 - accuracy: 0.8866 - val_loss: 0.3457 - val_accuracy: 0.8669\n",
      "Epoch 15/100\n",
      "65/65 [==============================] - 1s 9ms/step - loss: 0.2847 - accuracy: 0.8908 - val_loss: 0.3289 - val_accuracy: 0.8724\n",
      "Epoch 16/100\n",
      "65/65 [==============================] - 1s 8ms/step - loss: 0.2914 - accuracy: 0.8840 - val_loss: 0.3229 - val_accuracy: 0.8710\n",
      "Epoch 17/100\n",
      "65/65 [==============================] - 1s 9ms/step - loss: 0.2879 - accuracy: 0.8921 - val_loss: 0.3262 - val_accuracy: 0.8682\n"
     ]
    },
    {
     "name": "stderr",
     "output_type": "stream",
     "text": [
      "  5%|▌         | 16/300 [01:35<30:40,  6.48s/it]"
     ]
    },
    {
     "name": "stdout",
     "output_type": "stream",
     "text": [
      "Epoch 1/100\n",
      "65/65 [==============================] - 1s 10ms/step - loss: 0.3000 - accuracy: 0.8834 - val_loss: 0.3479 - val_accuracy: 0.8558\n",
      "Epoch 2/100\n",
      "65/65 [==============================] - 0s 8ms/step - loss: 0.2843 - accuracy: 0.8895 - val_loss: 0.3334 - val_accuracy: 0.8669\n",
      "Epoch 3/100\n",
      "65/65 [==============================] - 0s 7ms/step - loss: 0.2890 - accuracy: 0.8874 - val_loss: 0.3251 - val_accuracy: 0.8669\n",
      "Epoch 4/100\n",
      "65/65 [==============================] - 1s 8ms/step - loss: 0.3067 - accuracy: 0.8834 - val_loss: 0.3573 - val_accuracy: 0.8627\n",
      "Epoch 5/100\n",
      "65/65 [==============================] - 1s 8ms/step - loss: 0.2876 - accuracy: 0.8875 - val_loss: 0.4245 - val_accuracy: 0.8211\n",
      "Epoch 6/100\n",
      "65/65 [==============================] - 0s 8ms/step - loss: 0.3070 - accuracy: 0.8777 - val_loss: 0.3422 - val_accuracy: 0.8766\n",
      "Epoch 7/100\n",
      "65/65 [==============================] - 1s 8ms/step - loss: 0.3054 - accuracy: 0.8763 - val_loss: 0.3513 - val_accuracy: 0.8655\n"
     ]
    },
    {
     "name": "stderr",
     "output_type": "stream",
     "text": [
      "  6%|▌         | 17/300 [01:39<26:52,  5.70s/it]"
     ]
    },
    {
     "name": "stdout",
     "output_type": "stream",
     "text": [
      "Epoch 1/100\n",
      "65/65 [==============================] - 1s 10ms/step - loss: 0.2948 - accuracy: 0.8852 - val_loss: 0.3271 - val_accuracy: 0.8793\n",
      "Epoch 2/100\n",
      "65/65 [==============================] - 1s 10ms/step - loss: 0.2833 - accuracy: 0.8900 - val_loss: 0.3635 - val_accuracy: 0.8599\n",
      "Epoch 3/100\n",
      "65/65 [==============================] - 1s 9ms/step - loss: 0.3033 - accuracy: 0.8826 - val_loss: 0.3921 - val_accuracy: 0.8502\n",
      "Epoch 4/100\n",
      "65/65 [==============================] - 1s 8ms/step - loss: 0.2951 - accuracy: 0.8840 - val_loss: 0.3746 - val_accuracy: 0.8599\n",
      "Epoch 5/100\n",
      "65/65 [==============================] - 1s 10ms/step - loss: 0.2901 - accuracy: 0.8879 - val_loss: 0.3225 - val_accuracy: 0.8710\n",
      "Epoch 6/100\n",
      "65/65 [==============================] - 1s 10ms/step - loss: 0.2895 - accuracy: 0.8874 - val_loss: 0.3411 - val_accuracy: 0.8738\n",
      "Epoch 7/100\n",
      "65/65 [==============================] - 0s 8ms/step - loss: 0.2829 - accuracy: 0.8923 - val_loss: 0.3286 - val_accuracy: 0.8682\n",
      "Epoch 8/100\n",
      "65/65 [==============================] - 1s 10ms/step - loss: 0.3169 - accuracy: 0.8698 - val_loss: 0.3493 - val_accuracy: 0.8682\n",
      "Epoch 9/100\n",
      "65/65 [==============================] - 1s 10ms/step - loss: 0.2886 - accuracy: 0.8888 - val_loss: 0.3361 - val_accuracy: 0.8627\n",
      "Epoch 10/100\n",
      "65/65 [==============================] - 1s 9ms/step - loss: 0.2805 - accuracy: 0.8930 - val_loss: 0.3235 - val_accuracy: 0.8682\n",
      "Epoch 11/100\n",
      "65/65 [==============================] - 1s 8ms/step - loss: 0.2905 - accuracy: 0.8860 - val_loss: 0.3256 - val_accuracy: 0.8696\n",
      "Epoch 12/100\n",
      "65/65 [==============================] - 1s 8ms/step - loss: 0.2886 - accuracy: 0.8882 - val_loss: 0.3241 - val_accuracy: 0.8710\n",
      "Epoch 13/100\n",
      "65/65 [==============================] - 1s 8ms/step - loss: 0.2954 - accuracy: 0.8815 - val_loss: 0.3501 - val_accuracy: 0.8613\n",
      "Epoch 14/100\n",
      "65/65 [==============================] - 1s 10ms/step - loss: 0.2797 - accuracy: 0.8922 - val_loss: 0.3203 - val_accuracy: 0.8766\n",
      "Epoch 15/100\n",
      "65/65 [==============================] - 1s 8ms/step - loss: 0.2877 - accuracy: 0.8913 - val_loss: 0.3677 - val_accuracy: 0.8571\n",
      "Epoch 16/100\n",
      "65/65 [==============================] - 0s 7ms/step - loss: 0.2850 - accuracy: 0.8852 - val_loss: 0.3370 - val_accuracy: 0.8627\n",
      "Epoch 17/100\n",
      "65/65 [==============================] - 0s 7ms/step - loss: 0.2869 - accuracy: 0.8911 - val_loss: 0.3219 - val_accuracy: 0.8738\n",
      "Epoch 18/100\n",
      "65/65 [==============================] - 0s 8ms/step - loss: 0.2845 - accuracy: 0.8908 - val_loss: 0.3370 - val_accuracy: 0.8752\n",
      "Epoch 19/100\n",
      "65/65 [==============================] - 1s 9ms/step - loss: 0.2861 - accuracy: 0.8889 - val_loss: 0.3208 - val_accuracy: 0.8696\n"
     ]
    },
    {
     "name": "stderr",
     "output_type": "stream",
     "text": [
      "  6%|▌         | 18/300 [01:50<33:59,  7.23s/it]"
     ]
    },
    {
     "name": "stdout",
     "output_type": "stream",
     "text": [
      "Epoch 1/100\n",
      "65/65 [==============================] - 1s 10ms/step - loss: 0.2889 - accuracy: 0.8863 - val_loss: 0.3446 - val_accuracy: 0.8641\n",
      "Epoch 2/100\n",
      "65/65 [==============================] - 1s 11ms/step - loss: 0.2895 - accuracy: 0.8836 - val_loss: 0.3814 - val_accuracy: 0.8474\n",
      "Epoch 3/100\n",
      "65/65 [==============================] - 1s 9ms/step - loss: 0.2922 - accuracy: 0.8857 - val_loss: 0.3503 - val_accuracy: 0.8613\n",
      "Epoch 4/100\n",
      "65/65 [==============================] - 1s 9ms/step - loss: 0.2903 - accuracy: 0.8870 - val_loss: 0.3861 - val_accuracy: 0.8447\n",
      "Epoch 5/100\n",
      "65/65 [==============================] - 1s 8ms/step - loss: 0.2849 - accuracy: 0.8925 - val_loss: 0.3477 - val_accuracy: 0.8641\n",
      "Epoch 6/100\n",
      "65/65 [==============================] - 1s 9ms/step - loss: 0.2831 - accuracy: 0.8914 - val_loss: 0.3368 - val_accuracy: 0.8669\n",
      "Epoch 7/100\n",
      "65/65 [==============================] - 1s 8ms/step - loss: 0.2859 - accuracy: 0.8880 - val_loss: 0.3235 - val_accuracy: 0.8710\n",
      "Epoch 8/100\n",
      "65/65 [==============================] - 1s 8ms/step - loss: 0.2871 - accuracy: 0.8874 - val_loss: 0.3241 - val_accuracy: 0.8710\n",
      "Epoch 9/100\n",
      "65/65 [==============================] - 1s 8ms/step - loss: 0.2873 - accuracy: 0.8919 - val_loss: 0.3169 - val_accuracy: 0.8682\n",
      "Epoch 10/100\n",
      "65/65 [==============================] - 1s 8ms/step - loss: 0.2791 - accuracy: 0.8913 - val_loss: 0.3457 - val_accuracy: 0.8710\n",
      "Epoch 11/100\n",
      "65/65 [==============================] - 1s 8ms/step - loss: 0.2935 - accuracy: 0.8863 - val_loss: 0.3246 - val_accuracy: 0.8738\n",
      "Epoch 12/100\n",
      "65/65 [==============================] - 1s 9ms/step - loss: 0.2932 - accuracy: 0.8873 - val_loss: 0.3806 - val_accuracy: 0.8488\n",
      "Epoch 13/100\n",
      "65/65 [==============================] - 0s 7ms/step - loss: 0.2828 - accuracy: 0.8914 - val_loss: 0.3234 - val_accuracy: 0.8710\n",
      "Epoch 14/100\n",
      "65/65 [==============================] - 0s 8ms/step - loss: 0.2850 - accuracy: 0.8883 - val_loss: 0.4320 - val_accuracy: 0.8211\n",
      "Epoch 15/100\n",
      "65/65 [==============================] - 0s 7ms/step - loss: 0.2889 - accuracy: 0.8896 - val_loss: 0.3935 - val_accuracy: 0.8391\n"
     ]
    },
    {
     "name": "stderr",
     "output_type": "stream",
     "text": [
      "  6%|▋         | 19/300 [01:58<35:29,  7.58s/it]"
     ]
    },
    {
     "name": "stdout",
     "output_type": "stream",
     "text": [
      "Epoch 1/100\n",
      "65/65 [==============================] - 1s 10ms/step - loss: 0.2951 - accuracy: 0.8842 - val_loss: 0.3839 - val_accuracy: 0.8488\n",
      "Epoch 2/100\n",
      "65/65 [==============================] - 0s 7ms/step - loss: 0.3091 - accuracy: 0.8768 - val_loss: 0.3480 - val_accuracy: 0.8682\n",
      "Epoch 3/100\n",
      "65/65 [==============================] - 1s 8ms/step - loss: 0.2833 - accuracy: 0.8888 - val_loss: 0.3342 - val_accuracy: 0.8669\n",
      "Epoch 4/100\n",
      "65/65 [==============================] - 1s 8ms/step - loss: 0.2865 - accuracy: 0.8904 - val_loss: 0.3263 - val_accuracy: 0.8696\n",
      "Epoch 5/100\n",
      "65/65 [==============================] - 0s 7ms/step - loss: 0.2888 - accuracy: 0.8853 - val_loss: 0.3198 - val_accuracy: 0.8766\n",
      "Epoch 6/100\n",
      "65/65 [==============================] - 0s 7ms/step - loss: 0.2894 - accuracy: 0.8862 - val_loss: 0.3423 - val_accuracy: 0.8682\n",
      "Epoch 7/100\n",
      "65/65 [==============================] - 0s 7ms/step - loss: 0.2825 - accuracy: 0.8911 - val_loss: 0.3232 - val_accuracy: 0.8752\n",
      "Epoch 8/100\n",
      "65/65 [==============================] - 0s 7ms/step - loss: 0.2858 - accuracy: 0.8896 - val_loss: 0.3550 - val_accuracy: 0.8641\n",
      "Epoch 9/100\n",
      "65/65 [==============================] - 0s 8ms/step - loss: 0.2816 - accuracy: 0.8904 - val_loss: 0.3212 - val_accuracy: 0.8766\n",
      "Epoch 10/100\n",
      "65/65 [==============================] - 0s 7ms/step - loss: 0.2942 - accuracy: 0.8823 - val_loss: 0.3353 - val_accuracy: 0.8738\n",
      "Epoch 11/100\n",
      "65/65 [==============================] - 1s 8ms/step - loss: 0.2918 - accuracy: 0.8836 - val_loss: 0.3194 - val_accuracy: 0.8766\n",
      "Epoch 12/100\n",
      "65/65 [==============================] - 0s 7ms/step - loss: 0.2804 - accuracy: 0.8919 - val_loss: 0.3850 - val_accuracy: 0.8447\n",
      "Epoch 13/100\n",
      "65/65 [==============================] - 1s 8ms/step - loss: 0.2761 - accuracy: 0.8938 - val_loss: 0.3561 - val_accuracy: 0.8613\n",
      "Epoch 14/100\n",
      "65/65 [==============================] - 0s 7ms/step - loss: 0.2850 - accuracy: 0.8877 - val_loss: 0.3223 - val_accuracy: 0.8682\n",
      "Epoch 15/100\n",
      "65/65 [==============================] - 0s 7ms/step - loss: 0.2856 - accuracy: 0.8904 - val_loss: 0.3860 - val_accuracy: 0.8474\n",
      "Epoch 16/100\n",
      "65/65 [==============================] - 0s 7ms/step - loss: 0.2923 - accuracy: 0.8877 - val_loss: 0.4219 - val_accuracy: 0.8266\n",
      "Epoch 17/100\n",
      "65/65 [==============================] - 0s 7ms/step - loss: 0.2832 - accuracy: 0.8905 - val_loss: 0.3383 - val_accuracy: 0.8669\n",
      "Epoch 18/100\n",
      "65/65 [==============================] - 0s 7ms/step - loss: 0.2810 - accuracy: 0.8902 - val_loss: 0.3496 - val_accuracy: 0.8641\n"
     ]
    },
    {
     "name": "stderr",
     "output_type": "stream",
     "text": [
      "  7%|▋         | 20/300 [02:07<37:05,  7.95s/it]"
     ]
    },
    {
     "name": "stdout",
     "output_type": "stream",
     "text": [
      "Epoch 1/100\n",
      "65/65 [==============================] - 1s 8ms/step - loss: 0.2783 - accuracy: 0.8926 - val_loss: 0.3307 - val_accuracy: 0.8696\n",
      "Epoch 2/100\n",
      "65/65 [==============================] - 0s 7ms/step - loss: 0.2797 - accuracy: 0.8936 - val_loss: 0.3525 - val_accuracy: 0.8599\n",
      "Epoch 3/100\n",
      "65/65 [==============================] - 0s 7ms/step - loss: 0.2809 - accuracy: 0.8935 - val_loss: 0.3918 - val_accuracy: 0.8460\n",
      "Epoch 4/100\n",
      "65/65 [==============================] - 0s 7ms/step - loss: 0.2790 - accuracy: 0.8896 - val_loss: 0.3289 - val_accuracy: 0.8738\n",
      "Epoch 5/100\n",
      "65/65 [==============================] - 0s 7ms/step - loss: 0.2842 - accuracy: 0.8906 - val_loss: 0.4353 - val_accuracy: 0.8211\n",
      "Epoch 6/100\n",
      "65/65 [==============================] - 0s 7ms/step - loss: 0.2985 - accuracy: 0.8808 - val_loss: 0.3804 - val_accuracy: 0.8502\n"
     ]
    },
    {
     "name": "stderr",
     "output_type": "stream",
     "text": [
      "  7%|▋         | 22/300 [02:10<23:00,  4.97s/it]"
     ]
    },
    {
     "name": "stdout",
     "output_type": "stream",
     "text": [
      "Epoch 1/100\n",
      "65/65 [==============================] - 1s 9ms/step - loss: 0.2799 - accuracy: 0.8900 - val_loss: 0.3211 - val_accuracy: 0.8738\n",
      "Epoch 2/100\n",
      "65/65 [==============================] - 0s 7ms/step - loss: 0.2761 - accuracy: 0.8946 - val_loss: 0.3275 - val_accuracy: 0.8669\n",
      "Epoch 3/100\n",
      "65/65 [==============================] - 0s 7ms/step - loss: 0.2773 - accuracy: 0.8947 - val_loss: 0.3260 - val_accuracy: 0.8682\n",
      "Epoch 4/100\n",
      "65/65 [==============================] - 0s 7ms/step - loss: 0.2751 - accuracy: 0.8935 - val_loss: 0.3360 - val_accuracy: 0.8641\n",
      "Epoch 5/100\n",
      "65/65 [==============================] - 0s 7ms/step - loss: 0.2719 - accuracy: 0.9000 - val_loss: 0.3191 - val_accuracy: 0.8793\n",
      "Epoch 6/100\n",
      "65/65 [==============================] - 0s 7ms/step - loss: 0.2757 - accuracy: 0.8936 - val_loss: 0.3315 - val_accuracy: 0.8655\n",
      "Epoch 7/100\n",
      "65/65 [==============================] - 0s 7ms/step - loss: 0.2781 - accuracy: 0.8949 - val_loss: 0.3327 - val_accuracy: 0.8682\n",
      "Epoch 8/100\n",
      "65/65 [==============================] - 1s 8ms/step - loss: 0.2976 - accuracy: 0.8838 - val_loss: 0.3409 - val_accuracy: 0.8599\n",
      "Epoch 9/100\n",
      "65/65 [==============================] - 0s 7ms/step - loss: 0.2817 - accuracy: 0.8958 - val_loss: 0.3806 - val_accuracy: 0.8474\n",
      "Epoch 10/100\n",
      "65/65 [==============================] - 0s 8ms/step - loss: 0.2882 - accuracy: 0.8875 - val_loss: 0.3626 - val_accuracy: 0.8544\n"
     ]
    },
    {
     "name": "stderr",
     "output_type": "stream",
     "text": [
      "  8%|▊         | 23/300 [02:15<22:53,  4.96s/it]"
     ]
    },
    {
     "name": "stdout",
     "output_type": "stream",
     "text": [
      "Epoch 1/100\n",
      "65/65 [==============================] - 1s 9ms/step - loss: 0.2979 - accuracy: 0.8776 - val_loss: 0.3823 - val_accuracy: 0.8474\n",
      "Epoch 2/100\n",
      "65/65 [==============================] - 0s 7ms/step - loss: 0.3040 - accuracy: 0.8759 - val_loss: 0.3921 - val_accuracy: 0.8419\n",
      "Epoch 3/100\n",
      "65/65 [==============================] - 0s 7ms/step - loss: 0.2853 - accuracy: 0.8887 - val_loss: 0.3402 - val_accuracy: 0.8807\n",
      "Epoch 4/100\n",
      "65/65 [==============================] - 0s 7ms/step - loss: 0.2780 - accuracy: 0.8943 - val_loss: 0.3497 - val_accuracy: 0.8655\n",
      "Epoch 5/100\n",
      "65/65 [==============================] - 1s 8ms/step - loss: 0.2731 - accuracy: 0.8954 - val_loss: 0.3321 - val_accuracy: 0.8669\n",
      "Epoch 6/100\n",
      "65/65 [==============================] - 0s 7ms/step - loss: 0.2743 - accuracy: 0.8921 - val_loss: 0.3370 - val_accuracy: 0.8669\n",
      "Epoch 7/100\n",
      "65/65 [==============================] - 1s 8ms/step - loss: 0.2776 - accuracy: 0.8924 - val_loss: 0.3339 - val_accuracy: 0.8655\n",
      "Epoch 8/100\n",
      "65/65 [==============================] - 0s 7ms/step - loss: 0.2749 - accuracy: 0.8930 - val_loss: 0.3403 - val_accuracy: 0.8682\n",
      "Epoch 9/100\n",
      "65/65 [==============================] - 0s 7ms/step - loss: 0.2829 - accuracy: 0.8914 - val_loss: 0.3362 - val_accuracy: 0.8752\n",
      "Epoch 10/100\n",
      "65/65 [==============================] - 0s 7ms/step - loss: 0.2707 - accuracy: 0.8954 - val_loss: 0.3973 - val_accuracy: 0.8419\n",
      "Epoch 11/100\n",
      "65/65 [==============================] - 0s 7ms/step - loss: 0.2807 - accuracy: 0.8926 - val_loss: 0.3261 - val_accuracy: 0.8738\n",
      "Epoch 12/100\n",
      "65/65 [==============================] - 0s 7ms/step - loss: 0.2691 - accuracy: 0.8941 - val_loss: 0.3426 - val_accuracy: 0.8655\n",
      "Epoch 13/100\n",
      "65/65 [==============================] - 1s 8ms/step - loss: 0.2735 - accuracy: 0.8940 - val_loss: 0.4022 - val_accuracy: 0.8405\n",
      "Epoch 14/100\n",
      "65/65 [==============================] - 0s 7ms/step - loss: 0.2811 - accuracy: 0.8937 - val_loss: 0.4901 - val_accuracy: 0.7961\n",
      "Epoch 15/100\n",
      "65/65 [==============================] - 0s 7ms/step - loss: 0.2911 - accuracy: 0.8857 - val_loss: 0.3418 - val_accuracy: 0.8641\n",
      "Epoch 16/100\n",
      "65/65 [==============================] - 1s 8ms/step - loss: 0.2719 - accuracy: 0.8943 - val_loss: 0.3627 - val_accuracy: 0.8585\n",
      "Epoch 17/100\n",
      "65/65 [==============================] - 1s 8ms/step - loss: 0.2824 - accuracy: 0.8870 - val_loss: 0.3816 - val_accuracy: 0.8419\n"
     ]
    },
    {
     "name": "stderr",
     "output_type": "stream",
     "text": [
      "  8%|▊         | 24/300 [02:23<26:55,  5.85s/it]"
     ]
    },
    {
     "name": "stdout",
     "output_type": "stream",
     "text": [
      "Epoch 1/100\n",
      "65/65 [==============================] - 1s 10ms/step - loss: 0.2770 - accuracy: 0.8934 - val_loss: 0.3256 - val_accuracy: 0.8740\n",
      "Epoch 2/100\n",
      "65/65 [==============================] - 0s 7ms/step - loss: 0.2942 - accuracy: 0.8786 - val_loss: 0.3192 - val_accuracy: 0.8781\n",
      "Epoch 3/100\n",
      "65/65 [==============================] - 1s 8ms/step - loss: 0.2810 - accuracy: 0.8920 - val_loss: 0.3235 - val_accuracy: 0.8753\n",
      "Epoch 4/100\n",
      "65/65 [==============================] - 1s 8ms/step - loss: 0.2832 - accuracy: 0.8906 - val_loss: 0.3363 - val_accuracy: 0.8629\n",
      "Epoch 5/100\n",
      "65/65 [==============================] - 0s 7ms/step - loss: 0.2665 - accuracy: 0.8957 - val_loss: 0.3209 - val_accuracy: 0.8781\n",
      "Epoch 6/100\n",
      "65/65 [==============================] - 0s 8ms/step - loss: 0.2664 - accuracy: 0.8957 - val_loss: 0.3235 - val_accuracy: 0.8781\n",
      "Epoch 7/100\n",
      "65/65 [==============================] - 0s 7ms/step - loss: 0.2888 - accuracy: 0.8860 - val_loss: 0.3379 - val_accuracy: 0.8684\n",
      "Epoch 8/100\n",
      "65/65 [==============================] - 0s 8ms/step - loss: 0.2744 - accuracy: 0.8937 - val_loss: 0.3228 - val_accuracy: 0.8698\n",
      "Epoch 9/100\n",
      "65/65 [==============================] - 1s 8ms/step - loss: 0.2675 - accuracy: 0.8992 - val_loss: 0.3203 - val_accuracy: 0.8767\n",
      "Epoch 10/100\n",
      "65/65 [==============================] - 0s 7ms/step - loss: 0.2767 - accuracy: 0.8906 - val_loss: 0.3387 - val_accuracy: 0.8629\n",
      "Epoch 11/100\n",
      "65/65 [==============================] - 0s 7ms/step - loss: 0.2657 - accuracy: 0.8978 - val_loss: 0.3357 - val_accuracy: 0.8657\n",
      "Epoch 12/100\n",
      "65/65 [==============================] - 0s 7ms/step - loss: 0.2727 - accuracy: 0.8963 - val_loss: 0.3374 - val_accuracy: 0.8657\n",
      "Epoch 13/100\n",
      "65/65 [==============================] - 0s 7ms/step - loss: 0.2683 - accuracy: 0.8989 - val_loss: 0.3320 - val_accuracy: 0.8740\n",
      "Epoch 14/100\n",
      "65/65 [==============================] - 0s 7ms/step - loss: 0.2710 - accuracy: 0.8926 - val_loss: 0.3195 - val_accuracy: 0.8712\n",
      "Epoch 15/100\n",
      "65/65 [==============================] - 1s 8ms/step - loss: 0.2742 - accuracy: 0.8954 - val_loss: 0.3268 - val_accuracy: 0.8698\n",
      "Epoch 16/100\n",
      "65/65 [==============================] - 1s 8ms/step - loss: 0.2802 - accuracy: 0.8887 - val_loss: 0.3449 - val_accuracy: 0.8615\n"
     ]
    },
    {
     "name": "stderr",
     "output_type": "stream",
     "text": [
      "  8%|▊         | 25/300 [02:31<29:31,  6.44s/it]"
     ]
    },
    {
     "name": "stdout",
     "output_type": "stream",
     "text": [
      "Epoch 1/100\n",
      "65/65 [==============================] - 1s 9ms/step - loss: 0.2680 - accuracy: 0.8965 - val_loss: 0.3174 - val_accuracy: 0.8753\n",
      "Epoch 2/100\n",
      "65/65 [==============================] - 0s 7ms/step - loss: 0.2634 - accuracy: 0.8971 - val_loss: 0.4095 - val_accuracy: 0.8338\n",
      "Epoch 3/100\n",
      "65/65 [==============================] - 0s 7ms/step - loss: 0.2721 - accuracy: 0.8940 - val_loss: 0.3576 - val_accuracy: 0.8573\n",
      "Epoch 4/100\n",
      "65/65 [==============================] - 0s 7ms/step - loss: 0.2853 - accuracy: 0.8872 - val_loss: 0.3258 - val_accuracy: 0.8684\n",
      "Epoch 5/100\n",
      "65/65 [==============================] - 0s 7ms/step - loss: 0.2721 - accuracy: 0.8960 - val_loss: 0.3275 - val_accuracy: 0.8726\n",
      "Epoch 6/100\n",
      "65/65 [==============================] - 0s 7ms/step - loss: 0.2753 - accuracy: 0.8929 - val_loss: 0.3486 - val_accuracy: 0.8684\n",
      "Epoch 7/100\n",
      "65/65 [==============================] - 0s 8ms/step - loss: 0.2871 - accuracy: 0.8849 - val_loss: 0.3261 - val_accuracy: 0.8740\n"
     ]
    },
    {
     "name": "stderr",
     "output_type": "stream",
     "text": [
      "  9%|▊         | 26/300 [02:34<25:33,  5.60s/it]"
     ]
    },
    {
     "name": "stdout",
     "output_type": "stream",
     "text": [
      "Epoch 1/100\n",
      "65/65 [==============================] - 1s 8ms/step - loss: 0.2698 - accuracy: 0.8962 - val_loss: 0.3209 - val_accuracy: 0.8740\n",
      "Epoch 2/100\n",
      "65/65 [==============================] - 0s 8ms/step - loss: 0.2776 - accuracy: 0.8891 - val_loss: 0.3416 - val_accuracy: 0.8629\n",
      "Epoch 3/100\n",
      "65/65 [==============================] - 1s 8ms/step - loss: 0.2687 - accuracy: 0.8952 - val_loss: 0.3715 - val_accuracy: 0.8490\n",
      "Epoch 4/100\n",
      "65/65 [==============================] - 1s 8ms/step - loss: 0.2759 - accuracy: 0.8957 - val_loss: 0.3304 - val_accuracy: 0.8684\n",
      "Epoch 5/100\n",
      "65/65 [==============================] - 0s 7ms/step - loss: 0.2676 - accuracy: 0.8957 - val_loss: 0.3237 - val_accuracy: 0.8712\n",
      "Epoch 6/100\n",
      "65/65 [==============================] - 0s 8ms/step - loss: 0.2677 - accuracy: 0.8959 - val_loss: 0.3318 - val_accuracy: 0.8698\n",
      "Epoch 7/100\n",
      "65/65 [==============================] - 0s 7ms/step - loss: 0.2659 - accuracy: 0.8959 - val_loss: 0.3238 - val_accuracy: 0.8740\n",
      "Epoch 8/100\n",
      "65/65 [==============================] - 0s 7ms/step - loss: 0.2705 - accuracy: 0.8942 - val_loss: 0.3236 - val_accuracy: 0.8726\n",
      "Epoch 9/100\n",
      "65/65 [==============================] - 0s 7ms/step - loss: 0.2922 - accuracy: 0.8831 - val_loss: 0.3276 - val_accuracy: 0.8684\n",
      "Epoch 10/100\n",
      "65/65 [==============================] - 0s 7ms/step - loss: 0.2721 - accuracy: 0.8923 - val_loss: 0.3223 - val_accuracy: 0.8726\n",
      "Epoch 11/100\n",
      "65/65 [==============================] - 0s 7ms/step - loss: 0.2699 - accuracy: 0.8974 - val_loss: 0.3394 - val_accuracy: 0.8657\n",
      "Epoch 12/100\n",
      "65/65 [==============================] - 0s 7ms/step - loss: 0.2826 - accuracy: 0.8882 - val_loss: 0.3245 - val_accuracy: 0.8726\n"
     ]
    },
    {
     "name": "stderr",
     "output_type": "stream",
     "text": [
      "  9%|▉         | 27/300 [02:40<25:46,  5.66s/it]"
     ]
    },
    {
     "name": "stdout",
     "output_type": "stream",
     "text": [
      "Epoch 1/100\n",
      "65/65 [==============================] - 1s 8ms/step - loss: 0.2787 - accuracy: 0.8892 - val_loss: 0.3666 - val_accuracy: 0.8698\n",
      "Epoch 2/100\n",
      "65/65 [==============================] - 1s 9ms/step - loss: 0.2924 - accuracy: 0.8808 - val_loss: 0.4717 - val_accuracy: 0.8116\n",
      "Epoch 3/100\n",
      "65/65 [==============================] - 1s 9ms/step - loss: 0.2782 - accuracy: 0.8933 - val_loss: 0.3819 - val_accuracy: 0.8518\n",
      "Epoch 4/100\n",
      "65/65 [==============================] - 1s 8ms/step - loss: 0.2661 - accuracy: 0.9008 - val_loss: 0.3249 - val_accuracy: 0.8740\n",
      "Epoch 5/100\n",
      "65/65 [==============================] - 0s 7ms/step - loss: 0.2672 - accuracy: 0.8954 - val_loss: 0.3226 - val_accuracy: 0.8795\n",
      "Epoch 6/100\n",
      "65/65 [==============================] - 0s 7ms/step - loss: 0.2631 - accuracy: 0.9008 - val_loss: 0.4470 - val_accuracy: 0.8255\n",
      "Epoch 7/100\n",
      "65/65 [==============================] - 1s 8ms/step - loss: 0.2724 - accuracy: 0.8956 - val_loss: 0.3530 - val_accuracy: 0.8560\n",
      "Epoch 8/100\n",
      "65/65 [==============================] - 0s 7ms/step - loss: 0.2698 - accuracy: 0.8960 - val_loss: 0.3350 - val_accuracy: 0.8670\n",
      "Epoch 9/100\n",
      "65/65 [==============================] - 0s 7ms/step - loss: 0.2640 - accuracy: 0.8997 - val_loss: 0.3328 - val_accuracy: 0.8767\n",
      "Epoch 10/100\n",
      "65/65 [==============================] - 1s 8ms/step - loss: 0.2732 - accuracy: 0.8914 - val_loss: 0.3332 - val_accuracy: 0.8670\n",
      "Epoch 11/100\n",
      "65/65 [==============================] - 0s 7ms/step - loss: 0.2703 - accuracy: 0.8933 - val_loss: 0.3199 - val_accuracy: 0.8823\n"
     ]
    },
    {
     "name": "stderr",
     "output_type": "stream",
     "text": [
      "  9%|▉         | 28/300 [02:46<25:51,  5.70s/it]"
     ]
    },
    {
     "name": "stdout",
     "output_type": "stream",
     "text": [
      "Epoch 1/100\n",
      "65/65 [==============================] - 1s 9ms/step - loss: 0.2737 - accuracy: 0.8919 - val_loss: 0.3997 - val_accuracy: 0.8338\n",
      "Epoch 2/100\n",
      "65/65 [==============================] - 1s 8ms/step - loss: 0.2622 - accuracy: 0.9005 - val_loss: 0.3246 - val_accuracy: 0.8740\n",
      "Epoch 3/100\n",
      "65/65 [==============================] - 1s 9ms/step - loss: 0.2646 - accuracy: 0.8974 - val_loss: 0.3524 - val_accuracy: 0.8643\n",
      "Epoch 4/100\n",
      "65/65 [==============================] - 1s 8ms/step - loss: 0.2714 - accuracy: 0.8968 - val_loss: 0.3309 - val_accuracy: 0.8698\n",
      "Epoch 5/100\n",
      "65/65 [==============================] - 1s 9ms/step - loss: 0.2666 - accuracy: 0.9002 - val_loss: 0.3202 - val_accuracy: 0.8767\n",
      "Epoch 6/100\n",
      "65/65 [==============================] - 1s 10ms/step - loss: 0.2759 - accuracy: 0.8922 - val_loss: 0.3234 - val_accuracy: 0.8698\n",
      "Epoch 7/100\n",
      "65/65 [==============================] - 1s 9ms/step - loss: 0.2941 - accuracy: 0.8833 - val_loss: 0.3574 - val_accuracy: 0.8657\n"
     ]
    },
    {
     "name": "stderr",
     "output_type": "stream",
     "text": [
      " 10%|▉         | 29/300 [02:50<23:39,  5.24s/it]"
     ]
    },
    {
     "name": "stdout",
     "output_type": "stream",
     "text": [
      "Epoch 1/100\n",
      "65/65 [==============================] - 1s 9ms/step - loss: 0.2805 - accuracy: 0.8897 - val_loss: 0.3587 - val_accuracy: 0.8587\n",
      "Epoch 2/100\n",
      "65/65 [==============================] - 1s 8ms/step - loss: 0.2732 - accuracy: 0.8917 - val_loss: 0.3254 - val_accuracy: 0.8809\n",
      "Epoch 3/100\n",
      "65/65 [==============================] - 1s 8ms/step - loss: 0.2601 - accuracy: 0.9005 - val_loss: 0.3266 - val_accuracy: 0.8781\n",
      "Epoch 4/100\n",
      "65/65 [==============================] - 0s 7ms/step - loss: 0.2607 - accuracy: 0.8998 - val_loss: 0.3152 - val_accuracy: 0.8781\n",
      "Epoch 5/100\n",
      "65/65 [==============================] - 0s 7ms/step - loss: 0.2816 - accuracy: 0.8897 - val_loss: 0.4130 - val_accuracy: 0.8310\n",
      "Epoch 6/100\n",
      "65/65 [==============================] - 1s 8ms/step - loss: 0.2738 - accuracy: 0.8897 - val_loss: 0.3711 - val_accuracy: 0.8504\n",
      "Epoch 7/100\n",
      "65/65 [==============================] - 0s 8ms/step - loss: 0.2647 - accuracy: 0.9001 - val_loss: 0.3226 - val_accuracy: 0.8781\n",
      "Epoch 8/100\n",
      "65/65 [==============================] - 1s 8ms/step - loss: 0.2653 - accuracy: 0.8954 - val_loss: 0.3471 - val_accuracy: 0.8601\n"
     ]
    },
    {
     "name": "stderr",
     "output_type": "stream",
     "text": [
      " 10%|█         | 30/300 [02:54<22:18,  4.96s/it]"
     ]
    },
    {
     "name": "stdout",
     "output_type": "stream",
     "text": [
      "Epoch 1/100\n",
      "65/65 [==============================] - 1s 9ms/step - loss: 0.2687 - accuracy: 0.8950 - val_loss: 0.3396 - val_accuracy: 0.8698\n",
      "Epoch 2/100\n",
      "65/65 [==============================] - 1s 9ms/step - loss: 0.2660 - accuracy: 0.8944 - val_loss: 0.3442 - val_accuracy: 0.8615\n",
      "Epoch 3/100\n",
      "65/65 [==============================] - 1s 9ms/step - loss: 0.2711 - accuracy: 0.8975 - val_loss: 0.3265 - val_accuracy: 0.8726\n",
      "Epoch 4/100\n",
      "65/65 [==============================] - 1s 8ms/step - loss: 0.2578 - accuracy: 0.8998 - val_loss: 0.3271 - val_accuracy: 0.8767\n",
      "Epoch 5/100\n",
      "65/65 [==============================] - 1s 9ms/step - loss: 0.2657 - accuracy: 0.8958 - val_loss: 0.3243 - val_accuracy: 0.8795\n",
      "Epoch 6/100\n",
      "65/65 [==============================] - 1s 8ms/step - loss: 0.2602 - accuracy: 0.8996 - val_loss: 0.3232 - val_accuracy: 0.8698\n",
      "Epoch 7/100\n",
      "65/65 [==============================] - 1s 8ms/step - loss: 0.2631 - accuracy: 0.8973 - val_loss: 0.3400 - val_accuracy: 0.8670\n",
      "Epoch 8/100\n",
      "65/65 [==============================] - 1s 8ms/step - loss: 0.2883 - accuracy: 0.8825 - val_loss: 0.3619 - val_accuracy: 0.8698\n",
      "Epoch 9/100\n",
      "65/65 [==============================] - 0s 8ms/step - loss: 0.2669 - accuracy: 0.8921 - val_loss: 0.3255 - val_accuracy: 0.8767\n"
     ]
    },
    {
     "name": "stderr",
     "output_type": "stream",
     "text": [
      " 11%|█         | 32/300 [03:00<17:13,  3.86s/it]"
     ]
    },
    {
     "name": "stdout",
     "output_type": "stream",
     "text": [
      "Epoch 1/100\n",
      "65/65 [==============================] - 1s 10ms/step - loss: 0.2653 - accuracy: 0.9004 - val_loss: 0.3341 - val_accuracy: 0.8753\n",
      "Epoch 2/100\n",
      "65/65 [==============================] - 1s 8ms/step - loss: 0.2678 - accuracy: 0.8980 - val_loss: 0.3371 - val_accuracy: 0.8698\n",
      "Epoch 3/100\n",
      "65/65 [==============================] - 0s 8ms/step - loss: 0.2599 - accuracy: 0.9004 - val_loss: 0.3629 - val_accuracy: 0.8573\n",
      "Epoch 4/100\n",
      "65/65 [==============================] - 1s 9ms/step - loss: 0.2715 - accuracy: 0.8947 - val_loss: 0.4160 - val_accuracy: 0.8366\n",
      "Epoch 5/100\n",
      "65/65 [==============================] - 0s 7ms/step - loss: 0.2644 - accuracy: 0.8984 - val_loss: 0.3320 - val_accuracy: 0.8684\n",
      "Epoch 6/100\n",
      "65/65 [==============================] - 0s 7ms/step - loss: 0.2628 - accuracy: 0.8961 - val_loss: 0.3394 - val_accuracy: 0.8684\n",
      "Epoch 7/100\n",
      "65/65 [==============================] - 0s 7ms/step - loss: 0.2547 - accuracy: 0.9035 - val_loss: 0.3233 - val_accuracy: 0.8781\n",
      "Epoch 8/100\n",
      "65/65 [==============================] - 1s 8ms/step - loss: 0.2682 - accuracy: 0.8944 - val_loss: 0.3462 - val_accuracy: 0.8670\n",
      "Epoch 9/100\n",
      "65/65 [==============================] - 0s 8ms/step - loss: 0.2577 - accuracy: 0.9006 - val_loss: 0.3651 - val_accuracy: 0.8560\n",
      "Epoch 10/100\n",
      "65/65 [==============================] - 1s 8ms/step - loss: 0.2589 - accuracy: 0.9007 - val_loss: 0.3226 - val_accuracy: 0.8781\n",
      "Epoch 11/100\n",
      "65/65 [==============================] - 0s 7ms/step - loss: 0.2570 - accuracy: 0.9006 - val_loss: 0.3289 - val_accuracy: 0.8726\n",
      "Epoch 12/100\n",
      "65/65 [==============================] - 0s 7ms/step - loss: 0.2625 - accuracy: 0.9000 - val_loss: 0.3317 - val_accuracy: 0.8767\n"
     ]
    },
    {
     "name": "stderr",
     "output_type": "stream",
     "text": [
      " 11%|█         | 33/300 [03:06<19:40,  4.42s/it]"
     ]
    },
    {
     "name": "stdout",
     "output_type": "stream",
     "text": [
      "Epoch 1/100\n",
      "65/65 [==============================] - 1s 8ms/step - loss: 0.2632 - accuracy: 0.8974 - val_loss: 0.3988 - val_accuracy: 0.8393\n",
      "Epoch 2/100\n",
      "65/65 [==============================] - 0s 7ms/step - loss: 0.2681 - accuracy: 0.8960 - val_loss: 0.4256 - val_accuracy: 0.8269\n",
      "Epoch 3/100\n",
      "65/65 [==============================] - 0s 7ms/step - loss: 0.2623 - accuracy: 0.8987 - val_loss: 0.3231 - val_accuracy: 0.8837\n",
      "Epoch 4/100\n",
      "65/65 [==============================] - 0s 7ms/step - loss: 0.2569 - accuracy: 0.9004 - val_loss: 0.3673 - val_accuracy: 0.8629\n",
      "Epoch 5/100\n",
      "65/65 [==============================] - 1s 8ms/step - loss: 0.2562 - accuracy: 0.9018 - val_loss: 0.3299 - val_accuracy: 0.8657\n",
      "Epoch 6/100\n",
      "65/65 [==============================] - 0s 7ms/step - loss: 0.2601 - accuracy: 0.9030 - val_loss: 0.5024 - val_accuracy: 0.8075\n",
      "Epoch 7/100\n",
      "65/65 [==============================] - 1s 9ms/step - loss: 0.2640 - accuracy: 0.8954 - val_loss: 0.3741 - val_accuracy: 0.8504\n",
      "Epoch 8/100\n",
      "65/65 [==============================] - 1s 9ms/step - loss: 0.2694 - accuracy: 0.8961 - val_loss: 0.3514 - val_accuracy: 0.8670\n",
      "Epoch 9/100\n",
      "65/65 [==============================] - 0s 7ms/step - loss: 0.2767 - accuracy: 0.8918 - val_loss: 0.3352 - val_accuracy: 0.8670\n",
      "Epoch 10/100\n",
      "65/65 [==============================] - 1s 9ms/step - loss: 0.2762 - accuracy: 0.8944 - val_loss: 0.3404 - val_accuracy: 0.8601\n"
     ]
    },
    {
     "name": "stderr",
     "output_type": "stream",
     "text": [
      " 11%|█▏        | 34/300 [03:11<20:35,  4.65s/it]"
     ]
    },
    {
     "name": "stdout",
     "output_type": "stream",
     "text": [
      "Epoch 1/100\n",
      "65/65 [==============================] - 1s 8ms/step - loss: 0.2672 - accuracy: 0.8957 - val_loss: 0.3487 - val_accuracy: 0.8631\n",
      "Epoch 2/100\n",
      "65/65 [==============================] - 1s 9ms/step - loss: 0.2601 - accuracy: 0.8984 - val_loss: 0.3269 - val_accuracy: 0.8741\n",
      "Epoch 3/100\n",
      "65/65 [==============================] - 1s 8ms/step - loss: 0.2573 - accuracy: 0.9026 - val_loss: 0.3270 - val_accuracy: 0.8728\n",
      "Epoch 4/100\n",
      "65/65 [==============================] - 1s 8ms/step - loss: 0.2576 - accuracy: 0.9009 - val_loss: 0.3333 - val_accuracy: 0.8714\n",
      "Epoch 5/100\n",
      "65/65 [==============================] - 1s 8ms/step - loss: 0.2564 - accuracy: 0.9018 - val_loss: 0.3713 - val_accuracy: 0.8506\n",
      "Epoch 6/100\n",
      "65/65 [==============================] - 0s 7ms/step - loss: 0.2558 - accuracy: 0.8989 - val_loss: 0.4199 - val_accuracy: 0.8313\n",
      "Epoch 7/100\n",
      "65/65 [==============================] - 1s 8ms/step - loss: 0.2682 - accuracy: 0.8983 - val_loss: 0.3204 - val_accuracy: 0.8866\n",
      "Epoch 8/100\n",
      "65/65 [==============================] - 0s 8ms/step - loss: 0.2598 - accuracy: 0.9047 - val_loss: 0.3274 - val_accuracy: 0.8741\n",
      "Epoch 9/100\n",
      "65/65 [==============================] - 0s 7ms/step - loss: 0.2608 - accuracy: 0.8958 - val_loss: 0.3233 - val_accuracy: 0.8755\n",
      "Epoch 10/100\n",
      "65/65 [==============================] - 0s 7ms/step - loss: 0.2534 - accuracy: 0.9009 - val_loss: 0.3232 - val_accuracy: 0.8811\n",
      "Epoch 11/100\n",
      "65/65 [==============================] - 0s 7ms/step - loss: 0.2666 - accuracy: 0.8944 - val_loss: 0.3192 - val_accuracy: 0.8797\n",
      "Epoch 12/100\n",
      "65/65 [==============================] - 1s 8ms/step - loss: 0.2560 - accuracy: 0.9004 - val_loss: 0.3281 - val_accuracy: 0.8700\n",
      "Epoch 13/100\n",
      "65/65 [==============================] - 1s 8ms/step - loss: 0.2625 - accuracy: 0.8970 - val_loss: 0.4066 - val_accuracy: 0.8437\n",
      "Epoch 14/100\n",
      "65/65 [==============================] - 1s 9ms/step - loss: 0.2677 - accuracy: 0.8950 - val_loss: 0.3297 - val_accuracy: 0.8755\n",
      "Epoch 15/100\n",
      "65/65 [==============================] - 1s 10ms/step - loss: 0.2695 - accuracy: 0.8927 - val_loss: 0.3646 - val_accuracy: 0.8534\n"
     ]
    },
    {
     "name": "stderr",
     "output_type": "stream",
     "text": [
      " 12%|█▏        | 35/300 [03:19<24:30,  5.55s/it]"
     ]
    },
    {
     "name": "stdout",
     "output_type": "stream",
     "text": [
      "Epoch 1/100\n",
      "65/65 [==============================] - 1s 13ms/step - loss: 0.2725 - accuracy: 0.8923 - val_loss: 0.3279 - val_accuracy: 0.8783\n",
      "Epoch 2/100\n",
      "65/65 [==============================] - 0s 7ms/step - loss: 0.2768 - accuracy: 0.8918 - val_loss: 0.4722 - val_accuracy: 0.8160\n",
      "Epoch 3/100\n",
      "65/65 [==============================] - 0s 7ms/step - loss: 0.2671 - accuracy: 0.8964 - val_loss: 0.3371 - val_accuracy: 0.8728\n",
      "Epoch 4/100\n",
      "65/65 [==============================] - 0s 7ms/step - loss: 0.2580 - accuracy: 0.9040 - val_loss: 0.3576 - val_accuracy: 0.8617\n",
      "Epoch 5/100\n",
      "65/65 [==============================] - 0s 7ms/step - loss: 0.2744 - accuracy: 0.8875 - val_loss: 0.3295 - val_accuracy: 0.8728\n",
      "Epoch 6/100\n",
      "65/65 [==============================] - 0s 7ms/step - loss: 0.2553 - accuracy: 0.9018 - val_loss: 0.4031 - val_accuracy: 0.8354\n",
      "Epoch 7/100\n",
      "65/65 [==============================] - 1s 8ms/step - loss: 0.2547 - accuracy: 0.9021 - val_loss: 0.3215 - val_accuracy: 0.8755\n",
      "Epoch 8/100\n",
      "65/65 [==============================] - 0s 7ms/step - loss: 0.2529 - accuracy: 0.9026 - val_loss: 0.3312 - val_accuracy: 0.8714\n",
      "Epoch 9/100\n",
      "65/65 [==============================] - 0s 8ms/step - loss: 0.2548 - accuracy: 0.9012 - val_loss: 0.3270 - val_accuracy: 0.8741\n",
      "Epoch 10/100\n",
      "65/65 [==============================] - 0s 7ms/step - loss: 0.2649 - accuracy: 0.8983 - val_loss: 0.3227 - val_accuracy: 0.8783\n",
      "Epoch 11/100\n",
      "65/65 [==============================] - 0s 7ms/step - loss: 0.2654 - accuracy: 0.8964 - val_loss: 0.3569 - val_accuracy: 0.8589\n",
      "Epoch 12/100\n",
      "65/65 [==============================] - 0s 8ms/step - loss: 0.2677 - accuracy: 0.8957 - val_loss: 0.3509 - val_accuracy: 0.8631\n",
      "Epoch 13/100\n",
      "65/65 [==============================] - 0s 8ms/step - loss: 0.2630 - accuracy: 0.8977 - val_loss: 0.4149 - val_accuracy: 0.8368\n"
     ]
    },
    {
     "name": "stderr",
     "output_type": "stream",
     "text": [
      " 12%|█▏        | 36/300 [03:26<25:50,  5.87s/it]"
     ]
    },
    {
     "name": "stdout",
     "output_type": "stream",
     "text": [
      "Epoch 1/100\n",
      "65/65 [==============================] - 1s 10ms/step - loss: 0.2590 - accuracy: 0.8980 - val_loss: 0.3230 - val_accuracy: 0.8755\n",
      "Epoch 2/100\n",
      "65/65 [==============================] - 1s 8ms/step - loss: 0.2585 - accuracy: 0.9034 - val_loss: 0.3249 - val_accuracy: 0.8769\n",
      "Epoch 3/100\n",
      "65/65 [==============================] - 0s 8ms/step - loss: 0.2631 - accuracy: 0.8968 - val_loss: 0.3456 - val_accuracy: 0.8658\n",
      "Epoch 4/100\n",
      "65/65 [==============================] - 0s 8ms/step - loss: 0.2544 - accuracy: 0.9000 - val_loss: 0.3541 - val_accuracy: 0.8589\n",
      "Epoch 5/100\n",
      "65/65 [==============================] - 0s 7ms/step - loss: 0.2514 - accuracy: 0.9060 - val_loss: 0.3211 - val_accuracy: 0.8714\n",
      "Epoch 6/100\n",
      "65/65 [==============================] - 0s 7ms/step - loss: 0.2531 - accuracy: 0.9032 - val_loss: 0.3206 - val_accuracy: 0.8741\n",
      "Epoch 7/100\n",
      "65/65 [==============================] - 0s 7ms/step - loss: 0.2541 - accuracy: 0.8977 - val_loss: 0.3391 - val_accuracy: 0.8714\n",
      "Epoch 8/100\n",
      "65/65 [==============================] - 0s 7ms/step - loss: 0.2676 - accuracy: 0.8952 - val_loss: 0.3264 - val_accuracy: 0.8769\n",
      "Epoch 9/100\n",
      "65/65 [==============================] - 1s 8ms/step - loss: 0.2478 - accuracy: 0.9065 - val_loss: 0.3538 - val_accuracy: 0.8589\n",
      "Epoch 10/100\n",
      "65/65 [==============================] - 0s 7ms/step - loss: 0.2591 - accuracy: 0.9012 - val_loss: 0.3218 - val_accuracy: 0.8838\n",
      "Epoch 11/100\n",
      "65/65 [==============================] - 1s 8ms/step - loss: 0.2616 - accuracy: 0.8957 - val_loss: 0.3418 - val_accuracy: 0.8658\n",
      "Epoch 12/100\n",
      "65/65 [==============================] - 1s 8ms/step - loss: 0.2578 - accuracy: 0.9025 - val_loss: 0.3672 - val_accuracy: 0.8589\n",
      "Epoch 13/100\n",
      "65/65 [==============================] - 0s 8ms/step - loss: 0.2522 - accuracy: 0.9066 - val_loss: 0.3656 - val_accuracy: 0.8534\n",
      "Epoch 14/100\n",
      "65/65 [==============================] - 1s 9ms/step - loss: 0.2487 - accuracy: 0.9054 - val_loss: 0.3287 - val_accuracy: 0.8755\n"
     ]
    },
    {
     "name": "stderr",
     "output_type": "stream",
     "text": [
      " 12%|█▏        | 37/300 [03:33<27:27,  6.26s/it]"
     ]
    },
    {
     "name": "stdout",
     "output_type": "stream",
     "text": [
      "Epoch 1/100\n",
      "66/66 [==============================] - 1s 17ms/step - loss: 0.2510 - accuracy: 0.8986 - val_loss: 0.3336 - val_accuracy: 0.8728\n",
      "Epoch 2/100\n",
      "66/66 [==============================] - 1s 8ms/step - loss: 0.2560 - accuracy: 0.9020 - val_loss: 0.3418 - val_accuracy: 0.8672\n",
      "Epoch 3/100\n",
      "66/66 [==============================] - 1s 8ms/step - loss: 0.2602 - accuracy: 0.9014 - val_loss: 0.3308 - val_accuracy: 0.8714\n",
      "Epoch 4/100\n",
      "66/66 [==============================] - 1s 9ms/step - loss: 0.2542 - accuracy: 0.9025 - val_loss: 0.6444 - val_accuracy: 0.7580\n",
      "Epoch 5/100\n",
      "66/66 [==============================] - 1s 8ms/step - loss: 0.2724 - accuracy: 0.8943 - val_loss: 0.6383 - val_accuracy: 0.7663\n",
      "Epoch 6/100\n",
      "66/66 [==============================] - 1s 9ms/step - loss: 0.4120 - accuracy: 0.8369 - val_loss: 0.4467 - val_accuracy: 0.8230\n"
     ]
    },
    {
     "name": "stderr",
     "output_type": "stream",
     "text": [
      " 13%|█▎        | 38/300 [03:37<24:29,  5.61s/it]"
     ]
    },
    {
     "name": "stdout",
     "output_type": "stream",
     "text": [
      "Epoch 1/100\n",
      "66/66 [==============================] - 1s 10ms/step - loss: 0.2875 - accuracy: 0.8874 - val_loss: 0.5451 - val_accuracy: 0.7870\n",
      "Epoch 2/100\n",
      "66/66 [==============================] - 1s 8ms/step - loss: 0.3689 - accuracy: 0.8528 - val_loss: 0.4518 - val_accuracy: 0.8147\n",
      "Epoch 3/100\n",
      "66/66 [==============================] - 1s 8ms/step - loss: 0.3444 - accuracy: 0.8642 - val_loss: 0.4057 - val_accuracy: 0.8299\n",
      "Epoch 4/100\n",
      "66/66 [==============================] - 1s 8ms/step - loss: 0.2938 - accuracy: 0.8902 - val_loss: 0.4827 - val_accuracy: 0.8064\n",
      "Epoch 5/100\n",
      "66/66 [==============================] - 1s 8ms/step - loss: 0.3125 - accuracy: 0.8737 - val_loss: 0.3456 - val_accuracy: 0.8741\n",
      "Epoch 6/100\n",
      "66/66 [==============================] - 1s 8ms/step - loss: 0.2905 - accuracy: 0.8890 - val_loss: 0.4034 - val_accuracy: 0.8299\n"
     ]
    },
    {
     "name": "stderr",
     "output_type": "stream",
     "text": [
      " 13%|█▎        | 39/300 [03:40<21:33,  4.96s/it]"
     ]
    },
    {
     "name": "stdout",
     "output_type": "stream",
     "text": [
      "Epoch 1/100\n",
      "66/66 [==============================] - 1s 10ms/step - loss: 0.2971 - accuracy: 0.8850 - val_loss: 0.4915 - val_accuracy: 0.7981\n",
      "Epoch 2/100\n",
      "66/66 [==============================] - 1s 8ms/step - loss: 0.3095 - accuracy: 0.8771 - val_loss: 0.3453 - val_accuracy: 0.8755\n",
      "Epoch 3/100\n",
      "66/66 [==============================] - 1s 8ms/step - loss: 0.2857 - accuracy: 0.8924 - val_loss: 0.4521 - val_accuracy: 0.8147\n",
      "Epoch 4/100\n",
      "66/66 [==============================] - 1s 8ms/step - loss: 0.2974 - accuracy: 0.8817 - val_loss: 0.3746 - val_accuracy: 0.8589\n",
      "Epoch 5/100\n",
      "66/66 [==============================] - 0s 7ms/step - loss: 0.3050 - accuracy: 0.8754 - val_loss: 0.3749 - val_accuracy: 0.8409\n",
      "Epoch 6/100\n",
      "66/66 [==============================] - 1s 9ms/step - loss: 0.2817 - accuracy: 0.8960 - val_loss: 0.3991 - val_accuracy: 0.8492\n",
      "Epoch 7/100\n",
      "66/66 [==============================] - 1s 8ms/step - loss: 0.3288 - accuracy: 0.8671 - val_loss: 0.3470 - val_accuracy: 0.8700\n",
      "Epoch 8/100\n",
      "66/66 [==============================] - 0s 8ms/step - loss: 0.2718 - accuracy: 0.8993 - val_loss: 0.3599 - val_accuracy: 0.8700\n",
      "Epoch 9/100\n",
      "66/66 [==============================] - 0s 7ms/step - loss: 0.2802 - accuracy: 0.8942 - val_loss: 0.3553 - val_accuracy: 0.8686\n",
      "Epoch 10/100\n",
      "66/66 [==============================] - 0s 8ms/step - loss: 0.2733 - accuracy: 0.9011 - val_loss: 0.3815 - val_accuracy: 0.8396\n",
      "Epoch 11/100\n",
      "66/66 [==============================] - 1s 8ms/step - loss: 0.2749 - accuracy: 0.9000 - val_loss: 0.4196 - val_accuracy: 0.8382\n",
      "Epoch 12/100\n",
      "66/66 [==============================] - 1s 9ms/step - loss: 0.2890 - accuracy: 0.8893 - val_loss: 0.4267 - val_accuracy: 0.8230\n",
      "Epoch 13/100\n",
      "66/66 [==============================] - 1s 8ms/step - loss: 0.2845 - accuracy: 0.8948 - val_loss: 0.3852 - val_accuracy: 0.8562\n"
     ]
    },
    {
     "name": "stderr",
     "output_type": "stream",
     "text": [
      " 13%|█▎        | 40/300 [03:47<24:10,  5.58s/it]"
     ]
    },
    {
     "name": "stdout",
     "output_type": "stream",
     "text": [
      "Epoch 1/100\n",
      "66/66 [==============================] - 1s 10ms/step - loss: 0.2865 - accuracy: 0.8915 - val_loss: 0.4791 - val_accuracy: 0.8105\n",
      "Epoch 2/100\n",
      "66/66 [==============================] - 1s 8ms/step - loss: 0.2742 - accuracy: 0.8958 - val_loss: 0.3599 - val_accuracy: 0.8603\n",
      "Epoch 3/100\n",
      "66/66 [==============================] - 1s 8ms/step - loss: 0.2828 - accuracy: 0.8896 - val_loss: 0.3597 - val_accuracy: 0.8617\n",
      "Epoch 4/100\n",
      "66/66 [==============================] - 1s 8ms/step - loss: 0.2787 - accuracy: 0.8947 - val_loss: 0.3520 - val_accuracy: 0.8755\n",
      "Epoch 5/100\n",
      "66/66 [==============================] - 1s 8ms/step - loss: 0.2858 - accuracy: 0.8912 - val_loss: 0.3534 - val_accuracy: 0.8672\n",
      "Epoch 6/100\n",
      "66/66 [==============================] - 1s 8ms/step - loss: 0.2708 - accuracy: 0.8961 - val_loss: 0.3704 - val_accuracy: 0.8562\n",
      "Epoch 7/100\n",
      "66/66 [==============================] - 1s 8ms/step - loss: 0.2683 - accuracy: 0.8990 - val_loss: 0.3493 - val_accuracy: 0.8700\n",
      "Epoch 8/100\n",
      "66/66 [==============================] - 1s 8ms/step - loss: 0.2754 - accuracy: 0.8949 - val_loss: 0.3419 - val_accuracy: 0.8755\n",
      "Epoch 9/100\n",
      "66/66 [==============================] - 0s 8ms/step - loss: 0.2659 - accuracy: 0.9045 - val_loss: 0.6874 - val_accuracy: 0.7317\n",
      "Epoch 10/100\n",
      "66/66 [==============================] - 0s 7ms/step - loss: 0.3208 - accuracy: 0.8704 - val_loss: 0.4947 - val_accuracy: 0.7994\n",
      "Epoch 11/100\n",
      "66/66 [==============================] - 0s 7ms/step - loss: 0.2811 - accuracy: 0.8921 - val_loss: 0.3335 - val_accuracy: 0.8755\n",
      "Epoch 12/100\n",
      "66/66 [==============================] - 0s 8ms/step - loss: 0.2680 - accuracy: 0.9025 - val_loss: 0.3727 - val_accuracy: 0.8617\n",
      "Epoch 13/100\n",
      "66/66 [==============================] - 1s 8ms/step - loss: 0.2853 - accuracy: 0.8905 - val_loss: 0.3964 - val_accuracy: 0.8451\n",
      "Epoch 14/100\n",
      "66/66 [==============================] - 1s 8ms/step - loss: 0.2849 - accuracy: 0.8861 - val_loss: 0.3517 - val_accuracy: 0.8631\n"
     ]
    },
    {
     "name": "stderr",
     "output_type": "stream",
     "text": [
      " 14%|█▍        | 42/300 [03:55<20:19,  4.73s/it]"
     ]
    },
    {
     "name": "stdout",
     "output_type": "stream",
     "text": [
      "Epoch 1/100\n",
      "66/66 [==============================] - 1s 11ms/step - loss: 0.2723 - accuracy: 0.8970 - val_loss: 0.3861 - val_accuracy: 0.8368\n",
      "Epoch 2/100\n",
      "66/66 [==============================] - 0s 8ms/step - loss: 0.2894 - accuracy: 0.8867 - val_loss: 0.4405 - val_accuracy: 0.8216\n",
      "Epoch 3/100\n",
      "66/66 [==============================] - 1s 8ms/step - loss: 0.2783 - accuracy: 0.8913 - val_loss: 0.3603 - val_accuracy: 0.8575\n",
      "Epoch 4/100\n",
      "66/66 [==============================] - 1s 8ms/step - loss: 0.2758 - accuracy: 0.8939 - val_loss: 0.4095 - val_accuracy: 0.8313\n",
      "Epoch 5/100\n",
      "66/66 [==============================] - 0s 8ms/step - loss: 0.2827 - accuracy: 0.8896 - val_loss: 0.3329 - val_accuracy: 0.8769\n",
      "Epoch 6/100\n",
      "66/66 [==============================] - 1s 8ms/step - loss: 0.2667 - accuracy: 0.8990 - val_loss: 0.3666 - val_accuracy: 0.8506\n",
      "Epoch 7/100\n",
      "66/66 [==============================] - 1s 8ms/step - loss: 0.2676 - accuracy: 0.9010 - val_loss: 0.3314 - val_accuracy: 0.8769\n",
      "Epoch 8/100\n",
      "66/66 [==============================] - 1s 8ms/step - loss: 0.2675 - accuracy: 0.9032 - val_loss: 0.3347 - val_accuracy: 0.8755\n",
      "Epoch 9/100\n",
      "66/66 [==============================] - 0s 8ms/step - loss: 0.2739 - accuracy: 0.8947 - val_loss: 0.3433 - val_accuracy: 0.8728\n",
      "Epoch 10/100\n",
      "66/66 [==============================] - 0s 7ms/step - loss: 0.2730 - accuracy: 0.8979 - val_loss: 0.3324 - val_accuracy: 0.8769\n",
      "Epoch 11/100\n",
      "66/66 [==============================] - 0s 8ms/step - loss: 0.2684 - accuracy: 0.8958 - val_loss: 0.3500 - val_accuracy: 0.8562\n"
     ]
    },
    {
     "name": "stderr",
     "output_type": "stream",
     "text": [
      " 14%|█▍        | 43/300 [04:01<21:28,  5.01s/it]"
     ]
    },
    {
     "name": "stdout",
     "output_type": "stream",
     "text": [
      "Epoch 1/100\n",
      "66/66 [==============================] - 1s 12ms/step - loss: 0.2663 - accuracy: 0.8998 - val_loss: 0.3354 - val_accuracy: 0.8714\n",
      "Epoch 2/100\n",
      "66/66 [==============================] - 1s 9ms/step - loss: 0.2555 - accuracy: 0.9053 - val_loss: 0.3476 - val_accuracy: 0.8672\n",
      "Epoch 3/100\n",
      "66/66 [==============================] - 1s 8ms/step - loss: 0.2750 - accuracy: 0.8952 - val_loss: 0.4991 - val_accuracy: 0.7967\n",
      "Epoch 4/100\n",
      "66/66 [==============================] - 1s 9ms/step - loss: 0.2726 - accuracy: 0.8972 - val_loss: 0.3439 - val_accuracy: 0.8728\n",
      "Epoch 5/100\n",
      "66/66 [==============================] - 1s 8ms/step - loss: 0.2750 - accuracy: 0.8932 - val_loss: 0.4827 - val_accuracy: 0.8064\n",
      "Epoch 6/100\n",
      "66/66 [==============================] - 1s 8ms/step - loss: 0.2842 - accuracy: 0.8892 - val_loss: 0.3599 - val_accuracy: 0.8631\n",
      "Epoch 7/100\n",
      "66/66 [==============================] - 1s 8ms/step - loss: 0.2683 - accuracy: 0.8989 - val_loss: 0.3352 - val_accuracy: 0.8741\n"
     ]
    },
    {
     "name": "stderr",
     "output_type": "stream",
     "text": [
      " 15%|█▍        | 44/300 [04:05<20:22,  4.77s/it]"
     ]
    },
    {
     "name": "stdout",
     "output_type": "stream",
     "text": [
      "Epoch 1/100\n",
      "66/66 [==============================] - 1s 8ms/step - loss: 0.2767 - accuracy: 0.8975 - val_loss: 0.3416 - val_accuracy: 0.8702\n",
      "Epoch 2/100\n",
      "53/66 [=======================>......] - ETA: 0s - loss: 0.2702 - accuracy: 0.8972"
     ]
    }
   ],
   "source": [
    "X,y = tools.model_preprocessing(data,(\"2017-01-10\",\"2023-12-12\"))\n",
    "\n",
    "callback = keras.callbacks.EarlyStopping(monitor='loss', patience=5)\n",
    "\n",
    "model.fit(X[301:], \n",
    "          y[301:], \n",
    "          epochs=100, \n",
    "          validation_split=0.1, \n",
    "          batch_size=100,\n",
    "          verbose=0,\n",
    "          callbacks=[callback])\n",
    "\n",
    "print(f\"Backtesting for {n} games with {n_trials} trials.\\n\")\n",
    "\n",
    "n = 300\n",
    "OU_results = list(y[-n:])\n",
    "pred = []\n",
    "acc_vals = []\n",
    "\n",
    "for i in tqdm(range(0,n)):\n",
    "  #X_train = X[n+1-i:]\n",
    "  #y_train = y[n+1-i:]\n",
    "  \n",
    "  if i%10:\n",
    "      model.fit(X[n+1-i:], \n",
    "          y[n+1-i:], \n",
    "          epochs=100, \n",
    "          validation_split=0.1, \n",
    "          batch_size=100,\n",
    "          callbacks=[callback])\n",
    "\n",
    "  X_test = X[n-i]\n",
    "  y_test = y[n-i]\n",
    "  \n",
    "  prediction_output = model.predict(X_test.reshape(1,-1),verbose=0)\n",
    "  pred.append(tools.prediction_classifier(prediction_output)[0])\n",
    "\n",
    "acc = tools.score_results(OU_results,pred)\n",
    "acc_vals.append(acc)\n",
    "  \n",
    "overall_acc = sum(acc_vals)/len(acc_vals)\n",
    "print(f\"\\nNeural network achieved {overall_acc*100}% overall accruacy for the past {n} games. Accuracy is calculated from {n_trials} trials.\")"
   ]
  }
 ],
 "metadata": {
  "kernelspec": {
   "display_name": "tensorflow_silicon",
   "language": "python",
   "name": "python3"
  },
  "language_info": {
   "codemirror_mode": {
    "name": "ipython",
    "version": 3
   },
   "file_extension": ".py",
   "mimetype": "text/x-python",
   "name": "python",
   "nbconvert_exporter": "python",
   "pygments_lexer": "ipython3",
   "version": "3.9.16"
  },
  "orig_nbformat": 4
 },
 "nbformat": 4,
 "nbformat_minor": 2
}
